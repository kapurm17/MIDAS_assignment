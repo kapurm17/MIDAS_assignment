{
 "cells": [
  {
   "cell_type": "raw",
   "metadata": {
    "_cell_guid": "b1076dfc-b9ad-4769-8c92-a6c4dae69d19",
    "_uuid": "8f2839f25d086af736a60e9eeb907d3b93b6e0e5"
   },
   "source": [
    "# This Python 3 environment comes with many helpful analytics libraries installed\n",
    "# It is defined by the kaggle/python docker image: https://github.com/kaggle/docker-python\n",
    "# For example, here's several helpful packages to load in \n",
    "\n",
    "import numpy as np # linear algebra\n",
    "import pandas as pd # data processing, CSV file I/O (e.g. pd.read_csv)\n",
    "\n",
    "# Input data files are available in the \"../input/\" directory.\n",
    "# For example, running this (by clicking run or pressing Shift+Enter) will list all files under the input directory\n",
    "\n",
    "import os\n",
    "for dirname, _, filenames in os.walk('/kaggle/input'):\n",
    "    for filename in filenames:\n",
    "        print(os.path.join(dirname, filename))\n",
    "\n",
    "# Any results you write to the current directory are saved as output."
   ]
  },
  {
   "cell_type": "code",
   "execution_count": 1,
   "metadata": {},
   "outputs": [
    {
     "name": "stdout",
     "output_type": "stream",
     "text": [
      "/kaggle/input/bluebook-for-bulldozers/Machine_Appendix.csv\n",
      "/kaggle/input/bluebook-for-bulldozers/Data Dictionary.xlsx\n",
      "/kaggle/input/bluebook-for-bulldozers/median_benchmark.csv\n",
      "/kaggle/input/bluebook-for-bulldozers/random_forest_benchmark_test.csv\n",
      "/kaggle/input/bluebook-for-bulldozers/TrainAndValid.csv\n",
      "/kaggle/input/bluebook-for-bulldozers/ValidSolution.csv\n",
      "/kaggle/input/bluebook-for-bulldozers/Test.csv\n",
      "/kaggle/input/bluebook-for-bulldozers/Valid.csv\n",
      "/kaggle/input/bluebook-for-bulldozers/trainandvalid/TrainAndValid.csv\n",
      "/kaggle/input/bluebook-for-bulldozers/train/Train.csv\n",
      "/kaggle/input/bluebook-for-bulldozers/valid/Valid.csv\n"
     ]
    }
   ],
   "source": [
    "import pandas as pd\n",
    "import numpy as np\n",
    "\n",
    "import os\n",
    "for dirname, _, filenames in os.walk('/kaggle/input'):\n",
    "    for filename in filenames:\n",
    "        print(os.path.join(dirname, filename))"
   ]
  },
  {
   "cell_type": "code",
   "execution_count": 2,
   "metadata": {
    "_cell_guid": "79c7e3d0-c299-4dcb-8224-4455121ee9b0",
    "_uuid": "d629ff2d2480ee46fbb7e2d37f6b5fab8052498a"
   },
   "outputs": [
    {
     "name": "stderr",
     "output_type": "stream",
     "text": [
      "/opt/conda/lib/python3.6/site-packages/IPython/core/interactiveshell.py:3058: DtypeWarning: Columns (13,39,40,41) have mixed types. Specify dtype option on import or set low_memory=False.\n",
      "  interactivity=interactivity, compiler=compiler, result=result)\n"
     ]
    }
   ],
   "source": [
    "train = pd.read_csv('/kaggle/input/bluebook-for-bulldozers/trainandvalid/TrainAndValid.csv')\n",
    "test = pd.read_csv('/kaggle/input/bluebook-for-bulldozers/Test.csv')"
   ]
  },
  {
   "cell_type": "code",
   "execution_count": 3,
   "metadata": {},
   "outputs": [
    {
     "data": {
      "text/html": [
       "<div>\n",
       "<style scoped>\n",
       "    .dataframe tbody tr th:only-of-type {\n",
       "        vertical-align: middle;\n",
       "    }\n",
       "\n",
       "    .dataframe tbody tr th {\n",
       "        vertical-align: top;\n",
       "    }\n",
       "\n",
       "    .dataframe thead th {\n",
       "        text-align: right;\n",
       "    }\n",
       "</style>\n",
       "<table border=\"1\" class=\"dataframe\">\n",
       "  <thead>\n",
       "    <tr style=\"text-align: right;\">\n",
       "      <th></th>\n",
       "      <th>SalesID</th>\n",
       "      <th>SalePrice</th>\n",
       "      <th>MachineID</th>\n",
       "      <th>ModelID</th>\n",
       "      <th>datasource</th>\n",
       "      <th>auctioneerID</th>\n",
       "      <th>YearMade</th>\n",
       "      <th>MachineHoursCurrentMeter</th>\n",
       "      <th>UsageBand</th>\n",
       "      <th>saledate</th>\n",
       "      <th>...</th>\n",
       "      <th>Undercarriage_Pad_Width</th>\n",
       "      <th>Stick_Length</th>\n",
       "      <th>Thumb</th>\n",
       "      <th>Pattern_Changer</th>\n",
       "      <th>Grouser_Type</th>\n",
       "      <th>Backhoe_Mounting</th>\n",
       "      <th>Blade_Type</th>\n",
       "      <th>Travel_Controls</th>\n",
       "      <th>Differential_Type</th>\n",
       "      <th>Steering_Controls</th>\n",
       "    </tr>\n",
       "  </thead>\n",
       "  <tbody>\n",
       "    <tr>\n",
       "      <td>0</td>\n",
       "      <td>1139246</td>\n",
       "      <td>66000.0</td>\n",
       "      <td>999089</td>\n",
       "      <td>3157</td>\n",
       "      <td>121</td>\n",
       "      <td>3.0</td>\n",
       "      <td>2004</td>\n",
       "      <td>68.0</td>\n",
       "      <td>Low</td>\n",
       "      <td>11/16/2006 0:00</td>\n",
       "      <td>...</td>\n",
       "      <td>NaN</td>\n",
       "      <td>NaN</td>\n",
       "      <td>NaN</td>\n",
       "      <td>NaN</td>\n",
       "      <td>NaN</td>\n",
       "      <td>NaN</td>\n",
       "      <td>NaN</td>\n",
       "      <td>NaN</td>\n",
       "      <td>Standard</td>\n",
       "      <td>Conventional</td>\n",
       "    </tr>\n",
       "    <tr>\n",
       "      <td>1</td>\n",
       "      <td>1139248</td>\n",
       "      <td>57000.0</td>\n",
       "      <td>117657</td>\n",
       "      <td>77</td>\n",
       "      <td>121</td>\n",
       "      <td>3.0</td>\n",
       "      <td>1996</td>\n",
       "      <td>4640.0</td>\n",
       "      <td>Low</td>\n",
       "      <td>3/26/2004 0:00</td>\n",
       "      <td>...</td>\n",
       "      <td>NaN</td>\n",
       "      <td>NaN</td>\n",
       "      <td>NaN</td>\n",
       "      <td>NaN</td>\n",
       "      <td>NaN</td>\n",
       "      <td>NaN</td>\n",
       "      <td>NaN</td>\n",
       "      <td>NaN</td>\n",
       "      <td>Standard</td>\n",
       "      <td>Conventional</td>\n",
       "    </tr>\n",
       "    <tr>\n",
       "      <td>2</td>\n",
       "      <td>1139249</td>\n",
       "      <td>10000.0</td>\n",
       "      <td>434808</td>\n",
       "      <td>7009</td>\n",
       "      <td>121</td>\n",
       "      <td>3.0</td>\n",
       "      <td>2001</td>\n",
       "      <td>2838.0</td>\n",
       "      <td>High</td>\n",
       "      <td>2/26/2004 0:00</td>\n",
       "      <td>...</td>\n",
       "      <td>NaN</td>\n",
       "      <td>NaN</td>\n",
       "      <td>NaN</td>\n",
       "      <td>NaN</td>\n",
       "      <td>NaN</td>\n",
       "      <td>NaN</td>\n",
       "      <td>NaN</td>\n",
       "      <td>NaN</td>\n",
       "      <td>NaN</td>\n",
       "      <td>NaN</td>\n",
       "    </tr>\n",
       "    <tr>\n",
       "      <td>3</td>\n",
       "      <td>1139251</td>\n",
       "      <td>38500.0</td>\n",
       "      <td>1026470</td>\n",
       "      <td>332</td>\n",
       "      <td>121</td>\n",
       "      <td>3.0</td>\n",
       "      <td>2001</td>\n",
       "      <td>3486.0</td>\n",
       "      <td>High</td>\n",
       "      <td>5/19/2011 0:00</td>\n",
       "      <td>...</td>\n",
       "      <td>NaN</td>\n",
       "      <td>NaN</td>\n",
       "      <td>NaN</td>\n",
       "      <td>NaN</td>\n",
       "      <td>NaN</td>\n",
       "      <td>NaN</td>\n",
       "      <td>NaN</td>\n",
       "      <td>NaN</td>\n",
       "      <td>NaN</td>\n",
       "      <td>NaN</td>\n",
       "    </tr>\n",
       "    <tr>\n",
       "      <td>4</td>\n",
       "      <td>1139253</td>\n",
       "      <td>11000.0</td>\n",
       "      <td>1057373</td>\n",
       "      <td>17311</td>\n",
       "      <td>121</td>\n",
       "      <td>3.0</td>\n",
       "      <td>2007</td>\n",
       "      <td>722.0</td>\n",
       "      <td>Medium</td>\n",
       "      <td>7/23/2009 0:00</td>\n",
       "      <td>...</td>\n",
       "      <td>NaN</td>\n",
       "      <td>NaN</td>\n",
       "      <td>NaN</td>\n",
       "      <td>NaN</td>\n",
       "      <td>NaN</td>\n",
       "      <td>NaN</td>\n",
       "      <td>NaN</td>\n",
       "      <td>NaN</td>\n",
       "      <td>NaN</td>\n",
       "      <td>NaN</td>\n",
       "    </tr>\n",
       "  </tbody>\n",
       "</table>\n",
       "<p>5 rows × 53 columns</p>\n",
       "</div>"
      ],
      "text/plain": [
       "   SalesID  SalePrice  MachineID  ModelID  datasource  auctioneerID  YearMade  \\\n",
       "0  1139246    66000.0     999089     3157         121           3.0      2004   \n",
       "1  1139248    57000.0     117657       77         121           3.0      1996   \n",
       "2  1139249    10000.0     434808     7009         121           3.0      2001   \n",
       "3  1139251    38500.0    1026470      332         121           3.0      2001   \n",
       "4  1139253    11000.0    1057373    17311         121           3.0      2007   \n",
       "\n",
       "   MachineHoursCurrentMeter UsageBand         saledate  ...  \\\n",
       "0                      68.0       Low  11/16/2006 0:00  ...   \n",
       "1                    4640.0       Low   3/26/2004 0:00  ...   \n",
       "2                    2838.0      High   2/26/2004 0:00  ...   \n",
       "3                    3486.0      High   5/19/2011 0:00  ...   \n",
       "4                     722.0    Medium   7/23/2009 0:00  ...   \n",
       "\n",
       "  Undercarriage_Pad_Width Stick_Length Thumb Pattern_Changer Grouser_Type  \\\n",
       "0                     NaN          NaN   NaN             NaN          NaN   \n",
       "1                     NaN          NaN   NaN             NaN          NaN   \n",
       "2                     NaN          NaN   NaN             NaN          NaN   \n",
       "3                     NaN          NaN   NaN             NaN          NaN   \n",
       "4                     NaN          NaN   NaN             NaN          NaN   \n",
       "\n",
       "  Backhoe_Mounting Blade_Type Travel_Controls Differential_Type  \\\n",
       "0              NaN        NaN             NaN          Standard   \n",
       "1              NaN        NaN             NaN          Standard   \n",
       "2              NaN        NaN             NaN               NaN   \n",
       "3              NaN        NaN             NaN               NaN   \n",
       "4              NaN        NaN             NaN               NaN   \n",
       "\n",
       "  Steering_Controls  \n",
       "0      Conventional  \n",
       "1      Conventional  \n",
       "2               NaN  \n",
       "3               NaN  \n",
       "4               NaN  \n",
       "\n",
       "[5 rows x 53 columns]"
      ]
     },
     "execution_count": 3,
     "metadata": {},
     "output_type": "execute_result"
    }
   ],
   "source": [
    "train.head()"
   ]
  },
  {
   "cell_type": "code",
   "execution_count": 4,
   "metadata": {},
   "outputs": [
    {
     "name": "stdout",
     "output_type": "stream",
     "text": [
      "<class 'pandas.core.frame.DataFrame'>\n",
      "RangeIndex: 12457 entries, 0 to 12456\n",
      "Data columns (total 52 columns):\n",
      "SalesID                     12457 non-null int64\n",
      "MachineID                   12457 non-null int64\n",
      "ModelID                     12457 non-null int64\n",
      "datasource                  12457 non-null int64\n",
      "auctioneerID                12457 non-null int64\n",
      "YearMade                    12457 non-null int64\n",
      "MachineHoursCurrentMeter    2129 non-null float64\n",
      "UsageBand                   1834 non-null object\n",
      "saledate                    12457 non-null object\n",
      "fiModelDesc                 12457 non-null object\n",
      "fiBaseModel                 12457 non-null object\n",
      "fiSecondaryDesc             8482 non-null object\n",
      "fiModelSeries               2006 non-null object\n",
      "fiModelDescriptor           3024 non-null object\n",
      "ProductSize                 6048 non-null object\n",
      "fiProductClassDesc          12457 non-null object\n",
      "state                       12457 non-null object\n",
      "ProductGroup                12457 non-null object\n",
      "ProductGroupDesc            12457 non-null object\n",
      "Drive_System                2759 non-null object\n",
      "Enclosure                   12455 non-null object\n",
      "Forks                       6308 non-null object\n",
      "Pad_Type                    2108 non-null object\n",
      "Ride_Control                4241 non-null object\n",
      "Stick                       2108 non-null object\n",
      "Transmission                4818 non-null object\n",
      "Turbocharged                2108 non-null object\n",
      "Blade_Extension             651 non-null object\n",
      "Blade_Width                 651 non-null object\n",
      "Enclosure_Type              651 non-null object\n",
      "Engine_Horsepower           651 non-null object\n",
      "Hydraulics                  10315 non-null object\n",
      "Pushblock                   651 non-null object\n",
      "Ripper                      2704 non-null object\n",
      "Scarifier                   651 non-null object\n",
      "Tip_Control                 651 non-null object\n",
      "Tire_Size                   2778 non-null object\n",
      "Coupler                     7601 non-null object\n",
      "Coupler_System              2066 non-null object\n",
      "Grouser_Tracks              2066 non-null object\n",
      "Hydraulics_Flow             2066 non-null object\n",
      "Track_Type                  3394 non-null object\n",
      "Undercarriage_Pad_Width     3398 non-null object\n",
      "Stick_Length                3394 non-null object\n",
      "Thumb                       3395 non-null object\n",
      "Pattern_Changer             3394 non-null object\n",
      "Grouser_Type                3394 non-null object\n",
      "Backhoe_Mounting            2051 non-null object\n",
      "Blade_Type                  2058 non-null object\n",
      "Travel_Controls             2058 non-null object\n",
      "Differential_Type           2129 non-null object\n",
      "Steering_Controls           2129 non-null object\n",
      "dtypes: float64(1), int64(6), object(45)\n",
      "memory usage: 4.9+ MB\n"
     ]
    }
   ],
   "source": [
    "test.info()"
   ]
  },
  {
   "cell_type": "code",
   "execution_count": 5,
   "metadata": {},
   "outputs": [
    {
     "name": "stdout",
     "output_type": "stream",
     "text": [
      "<class 'pandas.core.frame.DataFrame'>\n",
      "RangeIndex: 412698 entries, 0 to 412697\n",
      "Data columns (total 53 columns):\n",
      "SalesID                     412698 non-null int64\n",
      "SalePrice                   412698 non-null float64\n",
      "MachineID                   412698 non-null int64\n",
      "ModelID                     412698 non-null int64\n",
      "datasource                  412698 non-null int64\n",
      "auctioneerID                392562 non-null float64\n",
      "YearMade                    412698 non-null int64\n",
      "MachineHoursCurrentMeter    147504 non-null float64\n",
      "UsageBand                   73670 non-null object\n",
      "saledate                    412698 non-null object\n",
      "fiModelDesc                 412698 non-null object\n",
      "fiBaseModel                 412698 non-null object\n",
      "fiSecondaryDesc             271971 non-null object\n",
      "fiModelSeries               58667 non-null object\n",
      "fiModelDescriptor           74816 non-null object\n",
      "ProductSize                 196093 non-null object\n",
      "fiProductClassDesc          412698 non-null object\n",
      "state                       412698 non-null object\n",
      "ProductGroup                412698 non-null object\n",
      "ProductGroupDesc            412698 non-null object\n",
      "Drive_System                107087 non-null object\n",
      "Enclosure                   412364 non-null object\n",
      "Forks                       197715 non-null object\n",
      "Pad_Type                    81096 non-null object\n",
      "Ride_Control                152728 non-null object\n",
      "Stick                       81096 non-null object\n",
      "Transmission                188007 non-null object\n",
      "Turbocharged                81096 non-null object\n",
      "Blade_Extension             25983 non-null object\n",
      "Blade_Width                 25983 non-null object\n",
      "Enclosure_Type              25983 non-null object\n",
      "Engine_Horsepower           25983 non-null object\n",
      "Hydraulics                  330133 non-null object\n",
      "Pushblock                   25983 non-null object\n",
      "Ripper                      106945 non-null object\n",
      "Scarifier                   25994 non-null object\n",
      "Tip_Control                 25983 non-null object\n",
      "Tire_Size                   97638 non-null object\n",
      "Coupler                     220679 non-null object\n",
      "Coupler_System              44974 non-null object\n",
      "Grouser_Tracks              44875 non-null object\n",
      "Hydraulics_Flow             44875 non-null object\n",
      "Track_Type                  102193 non-null object\n",
      "Undercarriage_Pad_Width     102916 non-null object\n",
      "Stick_Length                102261 non-null object\n",
      "Thumb                       102332 non-null object\n",
      "Pattern_Changer             102261 non-null object\n",
      "Grouser_Type                102193 non-null object\n",
      "Backhoe_Mounting            80712 non-null object\n",
      "Blade_Type                  81875 non-null object\n",
      "Travel_Controls             81877 non-null object\n",
      "Differential_Type           71564 non-null object\n",
      "Steering_Controls           71522 non-null object\n",
      "dtypes: float64(3), int64(5), object(45)\n",
      "memory usage: 166.9+ MB\n"
     ]
    }
   ],
   "source": [
    "train.info()"
   ]
  },
  {
   "cell_type": "code",
   "execution_count": 6,
   "metadata": {},
   "outputs": [
    {
     "data": {
      "text/html": [
       "<div>\n",
       "<style scoped>\n",
       "    .dataframe tbody tr th:only-of-type {\n",
       "        vertical-align: middle;\n",
       "    }\n",
       "\n",
       "    .dataframe tbody tr th {\n",
       "        vertical-align: top;\n",
       "    }\n",
       "\n",
       "    .dataframe thead th {\n",
       "        text-align: right;\n",
       "    }\n",
       "</style>\n",
       "<table border=\"1\" class=\"dataframe\">\n",
       "  <thead>\n",
       "    <tr style=\"text-align: right;\">\n",
       "      <th></th>\n",
       "      <th>SalesID</th>\n",
       "      <th>SalePrice</th>\n",
       "      <th>MachineID</th>\n",
       "      <th>ModelID</th>\n",
       "      <th>datasource</th>\n",
       "      <th>auctioneerID</th>\n",
       "      <th>YearMade</th>\n",
       "      <th>MachineHoursCurrentMeter</th>\n",
       "      <th>UsageBand</th>\n",
       "      <th>saledate</th>\n",
       "      <th>...</th>\n",
       "      <th>Undercarriage_Pad_Width</th>\n",
       "      <th>Stick_Length</th>\n",
       "      <th>Thumb</th>\n",
       "      <th>Pattern_Changer</th>\n",
       "      <th>Grouser_Type</th>\n",
       "      <th>Backhoe_Mounting</th>\n",
       "      <th>Blade_Type</th>\n",
       "      <th>Travel_Controls</th>\n",
       "      <th>Differential_Type</th>\n",
       "      <th>Steering_Controls</th>\n",
       "    </tr>\n",
       "  </thead>\n",
       "  <tbody>\n",
       "    <tr>\n",
       "      <td>count</td>\n",
       "      <td>4.126980e+05</td>\n",
       "      <td>412698.000000</td>\n",
       "      <td>4.126980e+05</td>\n",
       "      <td>412698.000000</td>\n",
       "      <td>412698.000000</td>\n",
       "      <td>392562.000000</td>\n",
       "      <td>412698.000000</td>\n",
       "      <td>1.475040e+05</td>\n",
       "      <td>73670</td>\n",
       "      <td>412698</td>\n",
       "      <td>...</td>\n",
       "      <td>102916</td>\n",
       "      <td>102261</td>\n",
       "      <td>102332</td>\n",
       "      <td>102261</td>\n",
       "      <td>102193</td>\n",
       "      <td>80712</td>\n",
       "      <td>81875</td>\n",
       "      <td>81877</td>\n",
       "      <td>71564</td>\n",
       "      <td>71522</td>\n",
       "    </tr>\n",
       "    <tr>\n",
       "      <td>unique</td>\n",
       "      <td>NaN</td>\n",
       "      <td>NaN</td>\n",
       "      <td>NaN</td>\n",
       "      <td>NaN</td>\n",
       "      <td>NaN</td>\n",
       "      <td>NaN</td>\n",
       "      <td>NaN</td>\n",
       "      <td>NaN</td>\n",
       "      <td>3</td>\n",
       "      <td>4013</td>\n",
       "      <td>...</td>\n",
       "      <td>19</td>\n",
       "      <td>29</td>\n",
       "      <td>3</td>\n",
       "      <td>3</td>\n",
       "      <td>3</td>\n",
       "      <td>2</td>\n",
       "      <td>10</td>\n",
       "      <td>7</td>\n",
       "      <td>4</td>\n",
       "      <td>5</td>\n",
       "    </tr>\n",
       "    <tr>\n",
       "      <td>top</td>\n",
       "      <td>NaN</td>\n",
       "      <td>NaN</td>\n",
       "      <td>NaN</td>\n",
       "      <td>NaN</td>\n",
       "      <td>NaN</td>\n",
       "      <td>NaN</td>\n",
       "      <td>NaN</td>\n",
       "      <td>NaN</td>\n",
       "      <td>Medium</td>\n",
       "      <td>2/16/2009 0:00</td>\n",
       "      <td>...</td>\n",
       "      <td>None or Unspecified</td>\n",
       "      <td>None or Unspecified</td>\n",
       "      <td>None or Unspecified</td>\n",
       "      <td>None or Unspecified</td>\n",
       "      <td>Double</td>\n",
       "      <td>None or Unspecified</td>\n",
       "      <td>PAT</td>\n",
       "      <td>None or Unspecified</td>\n",
       "      <td>Standard</td>\n",
       "      <td>Conventional</td>\n",
       "    </tr>\n",
       "    <tr>\n",
       "      <td>freq</td>\n",
       "      <td>NaN</td>\n",
       "      <td>NaN</td>\n",
       "      <td>NaN</td>\n",
       "      <td>NaN</td>\n",
       "      <td>NaN</td>\n",
       "      <td>NaN</td>\n",
       "      <td>NaN</td>\n",
       "      <td>NaN</td>\n",
       "      <td>35832</td>\n",
       "      <td>1932</td>\n",
       "      <td>...</td>\n",
       "      <td>82444</td>\n",
       "      <td>81539</td>\n",
       "      <td>85074</td>\n",
       "      <td>92924</td>\n",
       "      <td>86998</td>\n",
       "      <td>80692</td>\n",
       "      <td>39633</td>\n",
       "      <td>71447</td>\n",
       "      <td>70169</td>\n",
       "      <td>70774</td>\n",
       "    </tr>\n",
       "    <tr>\n",
       "      <td>mean</td>\n",
       "      <td>2.011161e+06</td>\n",
       "      <td>31215.181414</td>\n",
       "      <td>1.230061e+06</td>\n",
       "      <td>6947.201828</td>\n",
       "      <td>135.169361</td>\n",
       "      <td>6.585268</td>\n",
       "      <td>1899.049637</td>\n",
       "      <td>3.522988e+03</td>\n",
       "      <td>NaN</td>\n",
       "      <td>NaN</td>\n",
       "      <td>...</td>\n",
       "      <td>NaN</td>\n",
       "      <td>NaN</td>\n",
       "      <td>NaN</td>\n",
       "      <td>NaN</td>\n",
       "      <td>NaN</td>\n",
       "      <td>NaN</td>\n",
       "      <td>NaN</td>\n",
       "      <td>NaN</td>\n",
       "      <td>NaN</td>\n",
       "      <td>NaN</td>\n",
       "    </tr>\n",
       "    <tr>\n",
       "      <td>std</td>\n",
       "      <td>1.080068e+06</td>\n",
       "      <td>23141.743695</td>\n",
       "      <td>4.539533e+05</td>\n",
       "      <td>6280.824982</td>\n",
       "      <td>9.646749</td>\n",
       "      <td>17.158409</td>\n",
       "      <td>292.190243</td>\n",
       "      <td>2.716993e+04</td>\n",
       "      <td>NaN</td>\n",
       "      <td>NaN</td>\n",
       "      <td>...</td>\n",
       "      <td>NaN</td>\n",
       "      <td>NaN</td>\n",
       "      <td>NaN</td>\n",
       "      <td>NaN</td>\n",
       "      <td>NaN</td>\n",
       "      <td>NaN</td>\n",
       "      <td>NaN</td>\n",
       "      <td>NaN</td>\n",
       "      <td>NaN</td>\n",
       "      <td>NaN</td>\n",
       "    </tr>\n",
       "    <tr>\n",
       "      <td>min</td>\n",
       "      <td>1.139246e+06</td>\n",
       "      <td>4750.000000</td>\n",
       "      <td>0.000000e+00</td>\n",
       "      <td>28.000000</td>\n",
       "      <td>121.000000</td>\n",
       "      <td>0.000000</td>\n",
       "      <td>1000.000000</td>\n",
       "      <td>0.000000e+00</td>\n",
       "      <td>NaN</td>\n",
       "      <td>NaN</td>\n",
       "      <td>...</td>\n",
       "      <td>NaN</td>\n",
       "      <td>NaN</td>\n",
       "      <td>NaN</td>\n",
       "      <td>NaN</td>\n",
       "      <td>NaN</td>\n",
       "      <td>NaN</td>\n",
       "      <td>NaN</td>\n",
       "      <td>NaN</td>\n",
       "      <td>NaN</td>\n",
       "      <td>NaN</td>\n",
       "    </tr>\n",
       "    <tr>\n",
       "      <td>25%</td>\n",
       "      <td>1.421898e+06</td>\n",
       "      <td>14500.000000</td>\n",
       "      <td>1.088593e+06</td>\n",
       "      <td>3261.000000</td>\n",
       "      <td>132.000000</td>\n",
       "      <td>1.000000</td>\n",
       "      <td>1985.000000</td>\n",
       "      <td>0.000000e+00</td>\n",
       "      <td>NaN</td>\n",
       "      <td>NaN</td>\n",
       "      <td>...</td>\n",
       "      <td>NaN</td>\n",
       "      <td>NaN</td>\n",
       "      <td>NaN</td>\n",
       "      <td>NaN</td>\n",
       "      <td>NaN</td>\n",
       "      <td>NaN</td>\n",
       "      <td>NaN</td>\n",
       "      <td>NaN</td>\n",
       "      <td>NaN</td>\n",
       "      <td>NaN</td>\n",
       "    </tr>\n",
       "    <tr>\n",
       "      <td>50%</td>\n",
       "      <td>1.645852e+06</td>\n",
       "      <td>24000.000000</td>\n",
       "      <td>1.284397e+06</td>\n",
       "      <td>4605.000000</td>\n",
       "      <td>132.000000</td>\n",
       "      <td>2.000000</td>\n",
       "      <td>1995.000000</td>\n",
       "      <td>0.000000e+00</td>\n",
       "      <td>NaN</td>\n",
       "      <td>NaN</td>\n",
       "      <td>...</td>\n",
       "      <td>NaN</td>\n",
       "      <td>NaN</td>\n",
       "      <td>NaN</td>\n",
       "      <td>NaN</td>\n",
       "      <td>NaN</td>\n",
       "      <td>NaN</td>\n",
       "      <td>NaN</td>\n",
       "      <td>NaN</td>\n",
       "      <td>NaN</td>\n",
       "      <td>NaN</td>\n",
       "    </tr>\n",
       "    <tr>\n",
       "      <td>75%</td>\n",
       "      <td>2.261012e+06</td>\n",
       "      <td>40000.000000</td>\n",
       "      <td>1.478079e+06</td>\n",
       "      <td>8899.000000</td>\n",
       "      <td>136.000000</td>\n",
       "      <td>4.000000</td>\n",
       "      <td>2001.000000</td>\n",
       "      <td>3.209000e+03</td>\n",
       "      <td>NaN</td>\n",
       "      <td>NaN</td>\n",
       "      <td>...</td>\n",
       "      <td>NaN</td>\n",
       "      <td>NaN</td>\n",
       "      <td>NaN</td>\n",
       "      <td>NaN</td>\n",
       "      <td>NaN</td>\n",
       "      <td>NaN</td>\n",
       "      <td>NaN</td>\n",
       "      <td>NaN</td>\n",
       "      <td>NaN</td>\n",
       "      <td>NaN</td>\n",
       "    </tr>\n",
       "    <tr>\n",
       "      <td>max</td>\n",
       "      <td>6.333349e+06</td>\n",
       "      <td>142000.000000</td>\n",
       "      <td>2.486330e+06</td>\n",
       "      <td>37198.000000</td>\n",
       "      <td>173.000000</td>\n",
       "      <td>99.000000</td>\n",
       "      <td>2014.000000</td>\n",
       "      <td>2.483300e+06</td>\n",
       "      <td>NaN</td>\n",
       "      <td>NaN</td>\n",
       "      <td>...</td>\n",
       "      <td>NaN</td>\n",
       "      <td>NaN</td>\n",
       "      <td>NaN</td>\n",
       "      <td>NaN</td>\n",
       "      <td>NaN</td>\n",
       "      <td>NaN</td>\n",
       "      <td>NaN</td>\n",
       "      <td>NaN</td>\n",
       "      <td>NaN</td>\n",
       "      <td>NaN</td>\n",
       "    </tr>\n",
       "  </tbody>\n",
       "</table>\n",
       "<p>11 rows × 53 columns</p>\n",
       "</div>"
      ],
      "text/plain": [
       "             SalesID      SalePrice     MachineID        ModelID  \\\n",
       "count   4.126980e+05  412698.000000  4.126980e+05  412698.000000   \n",
       "unique           NaN            NaN           NaN            NaN   \n",
       "top              NaN            NaN           NaN            NaN   \n",
       "freq             NaN            NaN           NaN            NaN   \n",
       "mean    2.011161e+06   31215.181414  1.230061e+06    6947.201828   \n",
       "std     1.080068e+06   23141.743695  4.539533e+05    6280.824982   \n",
       "min     1.139246e+06    4750.000000  0.000000e+00      28.000000   \n",
       "25%     1.421898e+06   14500.000000  1.088593e+06    3261.000000   \n",
       "50%     1.645852e+06   24000.000000  1.284397e+06    4605.000000   \n",
       "75%     2.261012e+06   40000.000000  1.478079e+06    8899.000000   \n",
       "max     6.333349e+06  142000.000000  2.486330e+06   37198.000000   \n",
       "\n",
       "           datasource   auctioneerID       YearMade  MachineHoursCurrentMeter  \\\n",
       "count   412698.000000  392562.000000  412698.000000              1.475040e+05   \n",
       "unique            NaN            NaN            NaN                       NaN   \n",
       "top               NaN            NaN            NaN                       NaN   \n",
       "freq              NaN            NaN            NaN                       NaN   \n",
       "mean       135.169361       6.585268    1899.049637              3.522988e+03   \n",
       "std          9.646749      17.158409     292.190243              2.716993e+04   \n",
       "min        121.000000       0.000000    1000.000000              0.000000e+00   \n",
       "25%        132.000000       1.000000    1985.000000              0.000000e+00   \n",
       "50%        132.000000       2.000000    1995.000000              0.000000e+00   \n",
       "75%        136.000000       4.000000    2001.000000              3.209000e+03   \n",
       "max        173.000000      99.000000    2014.000000              2.483300e+06   \n",
       "\n",
       "       UsageBand        saledate  ... Undercarriage_Pad_Width  \\\n",
       "count      73670          412698  ...                  102916   \n",
       "unique         3            4013  ...                      19   \n",
       "top       Medium  2/16/2009 0:00  ...     None or Unspecified   \n",
       "freq       35832            1932  ...                   82444   \n",
       "mean         NaN             NaN  ...                     NaN   \n",
       "std          NaN             NaN  ...                     NaN   \n",
       "min          NaN             NaN  ...                     NaN   \n",
       "25%          NaN             NaN  ...                     NaN   \n",
       "50%          NaN             NaN  ...                     NaN   \n",
       "75%          NaN             NaN  ...                     NaN   \n",
       "max          NaN             NaN  ...                     NaN   \n",
       "\n",
       "               Stick_Length                Thumb      Pattern_Changer  \\\n",
       "count                102261               102332               102261   \n",
       "unique                   29                    3                    3   \n",
       "top     None or Unspecified  None or Unspecified  None or Unspecified   \n",
       "freq                  81539                85074                92924   \n",
       "mean                    NaN                  NaN                  NaN   \n",
       "std                     NaN                  NaN                  NaN   \n",
       "min                     NaN                  NaN                  NaN   \n",
       "25%                     NaN                  NaN                  NaN   \n",
       "50%                     NaN                  NaN                  NaN   \n",
       "75%                     NaN                  NaN                  NaN   \n",
       "max                     NaN                  NaN                  NaN   \n",
       "\n",
       "       Grouser_Type     Backhoe_Mounting Blade_Type      Travel_Controls  \\\n",
       "count        102193                80712      81875                81877   \n",
       "unique            3                    2         10                    7   \n",
       "top          Double  None or Unspecified        PAT  None or Unspecified   \n",
       "freq          86998                80692      39633                71447   \n",
       "mean            NaN                  NaN        NaN                  NaN   \n",
       "std             NaN                  NaN        NaN                  NaN   \n",
       "min             NaN                  NaN        NaN                  NaN   \n",
       "25%             NaN                  NaN        NaN                  NaN   \n",
       "50%             NaN                  NaN        NaN                  NaN   \n",
       "75%             NaN                  NaN        NaN                  NaN   \n",
       "max             NaN                  NaN        NaN                  NaN   \n",
       "\n",
       "       Differential_Type Steering_Controls  \n",
       "count              71564             71522  \n",
       "unique                 4                 5  \n",
       "top             Standard      Conventional  \n",
       "freq               70169             70774  \n",
       "mean                 NaN               NaN  \n",
       "std                  NaN               NaN  \n",
       "min                  NaN               NaN  \n",
       "25%                  NaN               NaN  \n",
       "50%                  NaN               NaN  \n",
       "75%                  NaN               NaN  \n",
       "max                  NaN               NaN  \n",
       "\n",
       "[11 rows x 53 columns]"
      ]
     },
     "execution_count": 6,
     "metadata": {},
     "output_type": "execute_result"
    }
   ],
   "source": [
    "train.describe(include='all')"
   ]
  },
  {
   "cell_type": "code",
   "execution_count": 7,
   "metadata": {},
   "outputs": [],
   "source": [
    "train['SalePrice'] = np.log(train.SalePrice)"
   ]
  },
  {
   "cell_type": "code",
   "execution_count": 8,
   "metadata": {},
   "outputs": [],
   "source": [
    "from sklearn.model_selection import train_test_split\n",
    "from sklearn.metrics import mean_squared_error as mse\n",
    "from sklearn.ensemble import RandomForestRegressor"
   ]
  },
  {
   "cell_type": "code",
   "execution_count": 9,
   "metadata": {},
   "outputs": [],
   "source": [
    "def model_score(model, X_trn, y_trn, X_val, y_val):\n",
    "    '''\n",
    "    Returns the RMSLE Score for the given model\n",
    "    '''\n",
    "    model.fit(X_trn, y_trn)\n",
    "    pred =model.predict(X_val)\n",
    "    return np.sqrt(mse(pred, y_val))"
   ]
  },
  {
   "cell_type": "code",
   "execution_count": 10,
   "metadata": {},
   "outputs": [],
   "source": [
    "model= RandomForestRegressor()\n",
    "feature = ['YearMade']"
   ]
  },
  {
   "cell_type": "code",
   "execution_count": 11,
   "metadata": {},
   "outputs": [],
   "source": [
    "X_zero = train[feature]\n",
    "y_zero = train.SalePrice"
   ]
  },
  {
   "cell_type": "code",
   "execution_count": 12,
   "metadata": {},
   "outputs": [],
   "source": [
    "X_trn, X_val, y_trn, y_val = train_test_split(X_zero, y_zero, test_size=0.3, random_state=0)"
   ]
  },
  {
   "cell_type": "code",
   "execution_count": 13,
   "metadata": {},
   "outputs": [
    {
     "name": "stderr",
     "output_type": "stream",
     "text": [
      "/opt/conda/lib/python3.6/site-packages/sklearn/ensemble/forest.py:245: FutureWarning: The default value of n_estimators will change from 10 in version 0.20 to 100 in 0.22.\n",
      "  \"10 in version 0.20 to 100 in 0.22.\", FutureWarning)\n"
     ]
    },
    {
     "data": {
      "text/plain": [
       "0.6681502909788333"
      ]
     },
     "execution_count": 13,
     "metadata": {},
     "output_type": "execute_result"
    }
   ],
   "source": [
    "model_score(model, X_trn, y_trn, X_val, y_val)"
   ]
  },
  {
   "cell_type": "code",
   "execution_count": 14,
   "metadata": {},
   "outputs": [],
   "source": [
    "from sklearn.linear_model import LinearRegression\n",
    "from xgboost import XGBRegressor"
   ]
  },
  {
   "cell_type": "code",
   "execution_count": 15,
   "metadata": {},
   "outputs": [
    {
     "data": {
      "text/plain": [
       "0.684898536272467"
      ]
     },
     "execution_count": 15,
     "metadata": {},
     "output_type": "execute_result"
    }
   ],
   "source": [
    "model1 = LinearRegression()\n",
    "model_score(model1, X_trn, y_trn, X_val, y_val)"
   ]
  },
  {
   "cell_type": "code",
   "execution_count": 16,
   "metadata": {},
   "outputs": [
    {
     "name": "stderr",
     "output_type": "stream",
     "text": [
      "/opt/conda/lib/python3.6/site-packages/xgboost/core.py:587: FutureWarning: Series.base is deprecated and will be removed in a future version\n",
      "  if getattr(data, 'base', None) is not None and \\\n"
     ]
    },
    {
     "name": "stdout",
     "output_type": "stream",
     "text": [
      "[16:13:32] WARNING: /workspace/src/objective/regression_obj.cu:152: reg:linear is now deprecated in favor of reg:squarederror.\n"
     ]
    },
    {
     "data": {
      "text/plain": [
       "0.6681724286239805"
      ]
     },
     "execution_count": 16,
     "metadata": {},
     "output_type": "execute_result"
    }
   ],
   "source": [
    "model2 = XGBRegressor()\n",
    "model_score(model2, X_trn, y_trn, X_val, y_val)"
   ]
  },
  {
   "cell_type": "code",
   "execution_count": 17,
   "metadata": {},
   "outputs": [],
   "source": [
    "#for i in range(50, 500, 50):\n",
    "#    model3 = XGBRegressor(n_estimators=200)\n",
    "#    scr = model_score(model3, X_trn, y_trn, X_val, y_val)\n",
    "#    print(i, '\\t', scr)"
   ]
  },
  {
   "cell_type": "code",
   "execution_count": 18,
   "metadata": {},
   "outputs": [
    {
     "data": {
      "text/plain": [
       "array([121, 132, 136, 149, 172, 173])"
      ]
     },
     "execution_count": 18,
     "metadata": {},
     "output_type": "execute_result"
    }
   ],
   "source": [
    "train.datasource.unique()"
   ]
  },
  {
   "cell_type": "code",
   "execution_count": 19,
   "metadata": {},
   "outputs": [],
   "source": [
    "features = ['YearMade', 'datasource']"
   ]
  },
  {
   "cell_type": "code",
   "execution_count": 20,
   "metadata": {},
   "outputs": [],
   "source": [
    "X_one = train[features]\n",
    "y_one = train.SalePrice"
   ]
  },
  {
   "cell_type": "code",
   "execution_count": 21,
   "metadata": {},
   "outputs": [],
   "source": [
    "X_trn, X_val, y_trn, y_val = train_test_split(X_one, y_one, test_size=0.3, random_state=0)"
   ]
  },
  {
   "cell_type": "code",
   "execution_count": 22,
   "metadata": {},
   "outputs": [
    {
     "data": {
      "text/plain": [
       "0.6639724617277986"
      ]
     },
     "execution_count": 22,
     "metadata": {},
     "output_type": "execute_result"
    }
   ],
   "source": [
    "model_score(model, X_trn, y_trn, X_val, y_val)"
   ]
  },
  {
   "cell_type": "code",
   "execution_count": 23,
   "metadata": {},
   "outputs": [],
   "source": [
    "features = ['YearMade', 'datasource', 'state']"
   ]
  },
  {
   "cell_type": "code",
   "execution_count": 24,
   "metadata": {},
   "outputs": [],
   "source": [
    "X_two = train[features]\n",
    "y_two = train.SalePrice"
   ]
  },
  {
   "cell_type": "code",
   "execution_count": 25,
   "metadata": {},
   "outputs": [],
   "source": [
    "from sklearn.preprocessing import LabelEncoder"
   ]
  },
  {
   "cell_type": "code",
   "execution_count": 26,
   "metadata": {},
   "outputs": [
    {
     "name": "stderr",
     "output_type": "stream",
     "text": [
      "/opt/conda/lib/python3.6/site-packages/ipykernel_launcher.py:2: SettingWithCopyWarning: \n",
      "A value is trying to be set on a copy of a slice from a DataFrame.\n",
      "Try using .loc[row_indexer,col_indexer] = value instead\n",
      "\n",
      "See the caveats in the documentation: http://pandas.pydata.org/pandas-docs/stable/user_guide/indexing.html#returning-a-view-versus-a-copy\n",
      "  \n"
     ]
    }
   ],
   "source": [
    "enc = LabelEncoder()\n",
    "X_two['state']=enc.fit_transform(X_two.state)"
   ]
  },
  {
   "cell_type": "code",
   "execution_count": 27,
   "metadata": {},
   "outputs": [],
   "source": [
    "X_trn, X_val, y_trn, y_val = train_test_split(X_two, y_two, test_size=0.2, random_state=0)"
   ]
  },
  {
   "cell_type": "code",
   "execution_count": 28,
   "metadata": {},
   "outputs": [
    {
     "data": {
      "text/plain": [
       "0.6569710623869166"
      ]
     },
     "execution_count": 28,
     "metadata": {},
     "output_type": "execute_result"
    }
   ],
   "source": [
    "model_score(model, X_trn, y_trn, X_val, y_val)"
   ]
  },
  {
   "cell_type": "code",
   "execution_count": 29,
   "metadata": {},
   "outputs": [],
   "source": [
    "train['age']= train.saledate.str[-9:-5].astype(int) - train.YearMade\n",
    "test['age'] = test.saledate.str[-9:-5].astype(int) - test.YearMade"
   ]
  },
  {
   "cell_type": "code",
   "execution_count": 30,
   "metadata": {},
   "outputs": [],
   "source": [
    "features = ['YearMade', 'datasource', 'state', 'age']\n",
    "X_three = train[features]\n",
    "y_three = train.SalePrice"
   ]
  },
  {
   "cell_type": "code",
   "execution_count": 31,
   "metadata": {},
   "outputs": [
    {
     "name": "stderr",
     "output_type": "stream",
     "text": [
      "/opt/conda/lib/python3.6/site-packages/ipykernel_launcher.py:1: SettingWithCopyWarning: \n",
      "A value is trying to be set on a copy of a slice from a DataFrame.\n",
      "Try using .loc[row_indexer,col_indexer] = value instead\n",
      "\n",
      "See the caveats in the documentation: http://pandas.pydata.org/pandas-docs/stable/user_guide/indexing.html#returning-a-view-versus-a-copy\n",
      "  \"\"\"Entry point for launching an IPython kernel.\n"
     ]
    }
   ],
   "source": [
    "X_three['state']= enc.fit_transform(X_three.state)"
   ]
  },
  {
   "cell_type": "code",
   "execution_count": 32,
   "metadata": {},
   "outputs": [],
   "source": [
    "X_trn, X_val, y_trn, y_val = train_test_split(X_three, y_three, test_size=0.2, random_state=0)"
   ]
  },
  {
   "cell_type": "code",
   "execution_count": 33,
   "metadata": {},
   "outputs": [
    {
     "data": {
      "text/plain": [
       "0.6506192245892045"
      ]
     },
     "execution_count": 33,
     "metadata": {},
     "output_type": "execute_result"
    }
   ],
   "source": [
    "model_score(model, X_trn, y_trn, X_val, y_val)"
   ]
  },
  {
   "cell_type": "code",
   "execution_count": 34,
   "metadata": {},
   "outputs": [],
   "source": [
    "features = ['YearMade', 'datasource', 'state', 'age', 'fiBaseModel']\n",
    "X_four = train[features]\n",
    "y_four = train.SalePrice"
   ]
  },
  {
   "cell_type": "code",
   "execution_count": 35,
   "metadata": {},
   "outputs": [
    {
     "name": "stderr",
     "output_type": "stream",
     "text": [
      "/opt/conda/lib/python3.6/site-packages/ipykernel_launcher.py:1: SettingWithCopyWarning: \n",
      "A value is trying to be set on a copy of a slice from a DataFrame.\n",
      "Try using .loc[row_indexer,col_indexer] = value instead\n",
      "\n",
      "See the caveats in the documentation: http://pandas.pydata.org/pandas-docs/stable/user_guide/indexing.html#returning-a-view-versus-a-copy\n",
      "  \"\"\"Entry point for launching an IPython kernel.\n",
      "/opt/conda/lib/python3.6/site-packages/ipykernel_launcher.py:2: SettingWithCopyWarning: \n",
      "A value is trying to be set on a copy of a slice from a DataFrame.\n",
      "Try using .loc[row_indexer,col_indexer] = value instead\n",
      "\n",
      "See the caveats in the documentation: http://pandas.pydata.org/pandas-docs/stable/user_guide/indexing.html#returning-a-view-versus-a-copy\n",
      "  \n"
     ]
    }
   ],
   "source": [
    "X_four['state']= enc.fit_transform(X_four.state)\n",
    "X_four['fiBaseModel']= enc.fit_transform(X_four.fiBaseModel)"
   ]
  },
  {
   "cell_type": "code",
   "execution_count": 36,
   "metadata": {},
   "outputs": [],
   "source": [
    "X_trn, X_val, y_trn, y_val = train_test_split(X_four, y_four, test_size=0.2, random_state=0)"
   ]
  },
  {
   "cell_type": "code",
   "execution_count": 37,
   "metadata": {},
   "outputs": [
    {
     "data": {
      "text/plain": [
       "0.27558798004720475"
      ]
     },
     "execution_count": 37,
     "metadata": {},
     "output_type": "execute_result"
    }
   ],
   "source": [
    "model_score(model, X_trn, y_trn, X_val, y_val)"
   ]
  },
  {
   "cell_type": "code",
   "execution_count": 38,
   "metadata": {},
   "outputs": [
    {
     "data": {
      "text/plain": [
       "0.8434746799018752"
      ]
     },
     "execution_count": 38,
     "metadata": {},
     "output_type": "execute_result"
    }
   ],
   "source": [
    "model.score(X_val, y_val)"
   ]
  },
  {
   "cell_type": "code",
   "execution_count": 39,
   "metadata": {},
   "outputs": [],
   "source": [
    "features = ['YearMade', 'datasource', 'state', 'age', 'fiBaseModel', 'fiProductClassDesc' ]\n",
    "X_five = train[features]\n",
    "y_five = train.SalePrice"
   ]
  },
  {
   "cell_type": "code",
   "execution_count": 40,
   "metadata": {},
   "outputs": [
    {
     "name": "stderr",
     "output_type": "stream",
     "text": [
      "/opt/conda/lib/python3.6/site-packages/ipykernel_launcher.py:1: SettingWithCopyWarning: \n",
      "A value is trying to be set on a copy of a slice from a DataFrame.\n",
      "Try using .loc[row_indexer,col_indexer] = value instead\n",
      "\n",
      "See the caveats in the documentation: http://pandas.pydata.org/pandas-docs/stable/user_guide/indexing.html#returning-a-view-versus-a-copy\n",
      "  \"\"\"Entry point for launching an IPython kernel.\n",
      "/opt/conda/lib/python3.6/site-packages/ipykernel_launcher.py:2: SettingWithCopyWarning: \n",
      "A value is trying to be set on a copy of a slice from a DataFrame.\n",
      "Try using .loc[row_indexer,col_indexer] = value instead\n",
      "\n",
      "See the caveats in the documentation: http://pandas.pydata.org/pandas-docs/stable/user_guide/indexing.html#returning-a-view-versus-a-copy\n",
      "  \n",
      "/opt/conda/lib/python3.6/site-packages/ipykernel_launcher.py:3: SettingWithCopyWarning: \n",
      "A value is trying to be set on a copy of a slice from a DataFrame.\n",
      "Try using .loc[row_indexer,col_indexer] = value instead\n",
      "\n",
      "See the caveats in the documentation: http://pandas.pydata.org/pandas-docs/stable/user_guide/indexing.html#returning-a-view-versus-a-copy\n",
      "  This is separate from the ipykernel package so we can avoid doing imports until\n"
     ]
    }
   ],
   "source": [
    "X_five['state']= enc.fit_transform(X_five.state)\n",
    "X_five['fiBaseModel']= enc.fit_transform(X_five.fiBaseModel)\n",
    "X_five['fiProductClassDesc']= enc.fit_transform(X_five.fiProductClassDesc)"
   ]
  },
  {
   "cell_type": "code",
   "execution_count": 41,
   "metadata": {},
   "outputs": [],
   "source": [
    "X_trn, X_val, y_trn, y_val = train_test_split(X_five, y_five, test_size=0.2, random_state=0)"
   ]
  },
  {
   "cell_type": "code",
   "execution_count": 42,
   "metadata": {},
   "outputs": [
    {
     "data": {
      "text/plain": [
       "0.24407273815781577"
      ]
     },
     "execution_count": 42,
     "metadata": {},
     "output_type": "execute_result"
    }
   ],
   "source": [
    "model_score(model, X_trn, y_trn, X_val, y_val)"
   ]
  },
  {
   "cell_type": "code",
   "execution_count": 43,
   "metadata": {},
   "outputs": [],
   "source": [
    "features = ['YearMade', 'datasource', 'state', 'age', 'fiBaseModel', 'fiProductClassDesc' , 'fiModelDesc']\n",
    "X_six = train[features]\n",
    "y_six = train.SalePrice"
   ]
  },
  {
   "cell_type": "code",
   "execution_count": 44,
   "metadata": {},
   "outputs": [],
   "source": [
    "X_test = test[features]"
   ]
  },
  {
   "cell_type": "code",
   "execution_count": 45,
   "metadata": {},
   "outputs": [],
   "source": [
    "net_state=X_six.state\n",
    "net_state= net_state.append(X_test.state, ignore_index=True)"
   ]
  },
  {
   "cell_type": "code",
   "execution_count": 46,
   "metadata": {},
   "outputs": [
    {
     "data": {
      "text/plain": [
       "0                Alabama\n",
       "1         North Carolina\n",
       "2               New York\n",
       "3                  Texas\n",
       "4               New York\n",
       "               ...      \n",
       "425150           Florida\n",
       "425151           Florida\n",
       "425152           Florida\n",
       "425153           Florida\n",
       "425154           Georgia\n",
       "Name: state, Length: 425155, dtype: object"
      ]
     },
     "execution_count": 46,
     "metadata": {},
     "output_type": "execute_result"
    }
   ],
   "source": [
    "net_state"
   ]
  },
  {
   "cell_type": "code",
   "execution_count": 47,
   "metadata": {},
   "outputs": [
    {
     "data": {
      "text/plain": [
       "LabelEncoder()"
      ]
     },
     "execution_count": 47,
     "metadata": {},
     "output_type": "execute_result"
    }
   ],
   "source": [
    "enc_st = LabelEncoder()\n",
    "enc_st.fit(net_state)"
   ]
  },
  {
   "cell_type": "code",
   "execution_count": 48,
   "metadata": {},
   "outputs": [
    {
     "name": "stderr",
     "output_type": "stream",
     "text": [
      "/opt/conda/lib/python3.6/site-packages/ipykernel_launcher.py:1: SettingWithCopyWarning: \n",
      "A value is trying to be set on a copy of a slice from a DataFrame.\n",
      "Try using .loc[row_indexer,col_indexer] = value instead\n",
      "\n",
      "See the caveats in the documentation: http://pandas.pydata.org/pandas-docs/stable/user_guide/indexing.html#returning-a-view-versus-a-copy\n",
      "  \"\"\"Entry point for launching an IPython kernel.\n"
     ]
    }
   ],
   "source": [
    "X_six['state']= enc_st.transform(X_six.state)"
   ]
  },
  {
   "cell_type": "code",
   "execution_count": 49,
   "metadata": {},
   "outputs": [
    {
     "name": "stderr",
     "output_type": "stream",
     "text": [
      "/opt/conda/lib/python3.6/site-packages/ipykernel_launcher.py:1: SettingWithCopyWarning: \n",
      "A value is trying to be set on a copy of a slice from a DataFrame.\n",
      "Try using .loc[row_indexer,col_indexer] = value instead\n",
      "\n",
      "See the caveats in the documentation: http://pandas.pydata.org/pandas-docs/stable/user_guide/indexing.html#returning-a-view-versus-a-copy\n",
      "  \"\"\"Entry point for launching an IPython kernel.\n"
     ]
    }
   ],
   "source": [
    "X_test['state'] = enc_st.transform(X_test.state)"
   ]
  },
  {
   "cell_type": "code",
   "execution_count": 50,
   "metadata": {},
   "outputs": [
    {
     "data": {
      "text/plain": [
       "0                  Wheel Loader - 110.0 to 120.0 Horsepower\n",
       "1                  Wheel Loader - 150.0 to 175.0 Horsepower\n",
       "2         Skid Steer Loader - 1351.0 to 1601.0 Lb Operat...\n",
       "3         Hydraulic Excavator, Track - 12.0 to 14.0 Metr...\n",
       "4         Skid Steer Loader - 1601.0 to 1751.0 Lb Operat...\n",
       "                                ...                        \n",
       "425150    Hydraulic Excavator, Track - 8.0 to 11.0 Metri...\n",
       "425151    Hydraulic Excavator, Track - 2.0 to 3.0 Metric...\n",
       "425152    Hydraulic Excavator, Track - 3.0 to 4.0 Metric...\n",
       "425153    Hydraulic Excavator, Track - 3.0 to 4.0 Metric...\n",
       "425154    Hydraulic Excavator, Track - 5.0 to 6.0 Metric...\n",
       "Name: fiProductClassDesc, Length: 425155, dtype: object"
      ]
     },
     "execution_count": 50,
     "metadata": {},
     "output_type": "execute_result"
    }
   ],
   "source": [
    "net_pcd = X_six.fiProductClassDesc\n",
    "net_pcd = net_pcd.append(X_test.fiProductClassDesc, ignore_index=True)\n",
    "net_pcd"
   ]
  },
  {
   "cell_type": "code",
   "execution_count": 51,
   "metadata": {},
   "outputs": [
    {
     "data": {
      "text/plain": [
       "LabelEncoder()"
      ]
     },
     "execution_count": 51,
     "metadata": {},
     "output_type": "execute_result"
    }
   ],
   "source": [
    "enc_pcd = LabelEncoder()\n",
    "enc_pcd.fit(net_pcd)"
   ]
  },
  {
   "cell_type": "code",
   "execution_count": 52,
   "metadata": {},
   "outputs": [
    {
     "name": "stderr",
     "output_type": "stream",
     "text": [
      "/opt/conda/lib/python3.6/site-packages/pandas/core/generic.py:5208: SettingWithCopyWarning: \n",
      "A value is trying to be set on a copy of a slice from a DataFrame.\n",
      "Try using .loc[row_indexer,col_indexer] = value instead\n",
      "\n",
      "See the caveats in the documentation: http://pandas.pydata.org/pandas-docs/stable/user_guide/indexing.html#returning-a-view-versus-a-copy\n",
      "  self[name] = value\n"
     ]
    }
   ],
   "source": [
    "X_six.fiProductClassDesc = enc_pcd.transform(X_six.fiProductClassDesc)"
   ]
  },
  {
   "cell_type": "code",
   "execution_count": 53,
   "metadata": {},
   "outputs": [
    {
     "name": "stderr",
     "output_type": "stream",
     "text": [
      "/opt/conda/lib/python3.6/site-packages/ipykernel_launcher.py:1: SettingWithCopyWarning: \n",
      "A value is trying to be set on a copy of a slice from a DataFrame.\n",
      "Try using .loc[row_indexer,col_indexer] = value instead\n",
      "\n",
      "See the caveats in the documentation: http://pandas.pydata.org/pandas-docs/stable/user_guide/indexing.html#returning-a-view-versus-a-copy\n",
      "  \"\"\"Entry point for launching an IPython kernel.\n"
     ]
    }
   ],
   "source": [
    "X_test['fiProductClassDesc'] = enc_pcd.transform(X_test.fiProductClassDesc )"
   ]
  },
  {
   "cell_type": "code",
   "execution_count": 54,
   "metadata": {},
   "outputs": [
    {
     "data": {
      "text/plain": [
       "0           521\n",
       "1           950\n",
       "2           226\n",
       "3         PC120\n",
       "4          S175\n",
       "          ...  \n",
       "425150       80\n",
       "425151       28\n",
       "425152       35\n",
       "425153       35\n",
       "425154       55\n",
       "Name: fiBaseModel, Length: 425155, dtype: object"
      ]
     },
     "execution_count": 54,
     "metadata": {},
     "output_type": "execute_result"
    }
   ],
   "source": [
    "net_bm = X_six.fiBaseModel\n",
    "net_bm = net_bm.append(X_test.fiBaseModel, ignore_index=True)\n",
    "net_bm"
   ]
  },
  {
   "cell_type": "code",
   "execution_count": 55,
   "metadata": {},
   "outputs": [
    {
     "data": {
      "text/plain": [
       "LabelEncoder()"
      ]
     },
     "execution_count": 55,
     "metadata": {},
     "output_type": "execute_result"
    }
   ],
   "source": [
    "enc_bm = LabelEncoder()\n",
    "enc_bm.fit(net_bm)"
   ]
  },
  {
   "cell_type": "code",
   "execution_count": 56,
   "metadata": {},
   "outputs": [],
   "source": [
    "X_six.fiBaseModel = enc_bm.transform(X_six.fiBaseModel)"
   ]
  },
  {
   "cell_type": "code",
   "execution_count": 57,
   "metadata": {},
   "outputs": [],
   "source": [
    "X_test.fiBaseModel = enc_bm.transform(X_test.fiBaseModel)"
   ]
  },
  {
   "cell_type": "code",
   "execution_count": 58,
   "metadata": {},
   "outputs": [
    {
     "data": {
      "text/html": [
       "<div>\n",
       "<style scoped>\n",
       "    .dataframe tbody tr th:only-of-type {\n",
       "        vertical-align: middle;\n",
       "    }\n",
       "\n",
       "    .dataframe tbody tr th {\n",
       "        vertical-align: top;\n",
       "    }\n",
       "\n",
       "    .dataframe thead th {\n",
       "        text-align: right;\n",
       "    }\n",
       "</style>\n",
       "<table border=\"1\" class=\"dataframe\">\n",
       "  <thead>\n",
       "    <tr style=\"text-align: right;\">\n",
       "      <th></th>\n",
       "      <th>YearMade</th>\n",
       "      <th>datasource</th>\n",
       "      <th>state</th>\n",
       "      <th>age</th>\n",
       "      <th>fiBaseModel</th>\n",
       "      <th>fiProductClassDesc</th>\n",
       "      <th>fiModelDesc</th>\n",
       "    </tr>\n",
       "  </thead>\n",
       "  <tbody>\n",
       "    <tr>\n",
       "      <td>0</td>\n",
       "      <td>1999</td>\n",
       "      <td>121</td>\n",
       "      <td>52</td>\n",
       "      <td>13</td>\n",
       "      <td>326</td>\n",
       "      <td>1</td>\n",
       "      <td>580G</td>\n",
       "    </tr>\n",
       "    <tr>\n",
       "      <td>1</td>\n",
       "      <td>1000</td>\n",
       "      <td>121</td>\n",
       "      <td>47</td>\n",
       "      <td>1012</td>\n",
       "      <td>523</td>\n",
       "      <td>60</td>\n",
       "      <td>936</td>\n",
       "    </tr>\n",
       "    <tr>\n",
       "      <td>2</td>\n",
       "      <td>2004</td>\n",
       "      <td>121</td>\n",
       "      <td>29</td>\n",
       "      <td>8</td>\n",
       "      <td>777</td>\n",
       "      <td>13</td>\n",
       "      <td>EC210BLC</td>\n",
       "    </tr>\n",
       "    <tr>\n",
       "      <td>3</td>\n",
       "      <td>2006</td>\n",
       "      <td>121</td>\n",
       "      <td>29</td>\n",
       "      <td>6</td>\n",
       "      <td>196</td>\n",
       "      <td>18</td>\n",
       "      <td>330CL</td>\n",
       "    </tr>\n",
       "    <tr>\n",
       "      <td>4</td>\n",
       "      <td>2005</td>\n",
       "      <td>121</td>\n",
       "      <td>8</td>\n",
       "      <td>7</td>\n",
       "      <td>354</td>\n",
       "      <td>50</td>\n",
       "      <td>650K</td>\n",
       "    </tr>\n",
       "    <tr>\n",
       "      <td>...</td>\n",
       "      <td>...</td>\n",
       "      <td>...</td>\n",
       "      <td>...</td>\n",
       "      <td>...</td>\n",
       "      <td>...</td>\n",
       "      <td>...</td>\n",
       "      <td>...</td>\n",
       "    </tr>\n",
       "    <tr>\n",
       "      <td>12452</td>\n",
       "      <td>2008</td>\n",
       "      <td>149</td>\n",
       "      <td>8</td>\n",
       "      <td>4</td>\n",
       "      <td>424</td>\n",
       "      <td>26</td>\n",
       "      <td>80NX3</td>\n",
       "    </tr>\n",
       "    <tr>\n",
       "      <td>12453</td>\n",
       "      <td>2005</td>\n",
       "      <td>149</td>\n",
       "      <td>8</td>\n",
       "      <td>7</td>\n",
       "      <td>145</td>\n",
       "      <td>12</td>\n",
       "      <td>28N</td>\n",
       "    </tr>\n",
       "    <tr>\n",
       "      <td>12454</td>\n",
       "      <td>1000</td>\n",
       "      <td>149</td>\n",
       "      <td>8</td>\n",
       "      <td>1012</td>\n",
       "      <td>208</td>\n",
       "      <td>16</td>\n",
       "      <td>35N</td>\n",
       "    </tr>\n",
       "    <tr>\n",
       "      <td>12455</td>\n",
       "      <td>2006</td>\n",
       "      <td>149</td>\n",
       "      <td>8</td>\n",
       "      <td>6</td>\n",
       "      <td>208</td>\n",
       "      <td>16</td>\n",
       "      <td>35N</td>\n",
       "    </tr>\n",
       "    <tr>\n",
       "      <td>12456</td>\n",
       "      <td>2008</td>\n",
       "      <td>149</td>\n",
       "      <td>9</td>\n",
       "      <td>4</td>\n",
       "      <td>309</td>\n",
       "      <td>22</td>\n",
       "      <td>55N2</td>\n",
       "    </tr>\n",
       "  </tbody>\n",
       "</table>\n",
       "<p>12457 rows × 7 columns</p>\n",
       "</div>"
      ],
      "text/plain": [
       "       YearMade  datasource  state   age  fiBaseModel  fiProductClassDesc  \\\n",
       "0          1999         121     52    13          326                   1   \n",
       "1          1000         121     47  1012          523                  60   \n",
       "2          2004         121     29     8          777                  13   \n",
       "3          2006         121     29     6          196                  18   \n",
       "4          2005         121      8     7          354                  50   \n",
       "...         ...         ...    ...   ...          ...                 ...   \n",
       "12452      2008         149      8     4          424                  26   \n",
       "12453      2005         149      8     7          145                  12   \n",
       "12454      1000         149      8  1012          208                  16   \n",
       "12455      2006         149      8     6          208                  16   \n",
       "12456      2008         149      9     4          309                  22   \n",
       "\n",
       "      fiModelDesc  \n",
       "0            580G  \n",
       "1             936  \n",
       "2        EC210BLC  \n",
       "3           330CL  \n",
       "4            650K  \n",
       "...           ...  \n",
       "12452       80NX3  \n",
       "12453         28N  \n",
       "12454         35N  \n",
       "12455         35N  \n",
       "12456        55N2  \n",
       "\n",
       "[12457 rows x 7 columns]"
      ]
     },
     "execution_count": 58,
     "metadata": {},
     "output_type": "execute_result"
    }
   ],
   "source": [
    "X_test"
   ]
  },
  {
   "cell_type": "code",
   "execution_count": 59,
   "metadata": {},
   "outputs": [
    {
     "data": {
      "text/plain": [
       "0             521D\n",
       "1           950FII\n",
       "2              226\n",
       "3         PC120-6E\n",
       "4             S175\n",
       "            ...   \n",
       "425150       80NX3\n",
       "425151         28N\n",
       "425152         35N\n",
       "425153         35N\n",
       "425154        55N2\n",
       "Name: fiModelDesc, Length: 425155, dtype: object"
      ]
     },
     "execution_count": 59,
     "metadata": {},
     "output_type": "execute_result"
    }
   ],
   "source": [
    "net_md = X_six.fiModelDesc\n",
    "net_md = net_md.append(X_test.fiModelDesc, ignore_index=True)\n",
    "net_md"
   ]
  },
  {
   "cell_type": "code",
   "execution_count": 60,
   "metadata": {},
   "outputs": [
    {
     "data": {
      "text/plain": [
       "LabelEncoder()"
      ]
     },
     "execution_count": 60,
     "metadata": {},
     "output_type": "execute_result"
    }
   ],
   "source": [
    "enc_md = LabelEncoder()\n",
    "enc_md.fit(net_md)"
   ]
  },
  {
   "cell_type": "code",
   "execution_count": 61,
   "metadata": {},
   "outputs": [
    {
     "name": "stderr",
     "output_type": "stream",
     "text": [
      "/opt/conda/lib/python3.6/site-packages/ipykernel_launcher.py:1: SettingWithCopyWarning: \n",
      "A value is trying to be set on a copy of a slice from a DataFrame.\n",
      "Try using .loc[row_indexer,col_indexer] = value instead\n",
      "\n",
      "See the caveats in the documentation: http://pandas.pydata.org/pandas-docs/stable/user_guide/indexing.html#returning-a-view-versus-a-copy\n",
      "  \"\"\"Entry point for launching an IPython kernel.\n"
     ]
    }
   ],
   "source": [
    "X_six['fiModelDesc'] = enc_md.transform(X_six.fiModelDesc)"
   ]
  },
  {
   "cell_type": "code",
   "execution_count": 62,
   "metadata": {},
   "outputs": [
    {
     "name": "stderr",
     "output_type": "stream",
     "text": [
      "/opt/conda/lib/python3.6/site-packages/ipykernel_launcher.py:1: SettingWithCopyWarning: \n",
      "A value is trying to be set on a copy of a slice from a DataFrame.\n",
      "Try using .loc[row_indexer,col_indexer] = value instead\n",
      "\n",
      "See the caveats in the documentation: http://pandas.pydata.org/pandas-docs/stable/user_guide/indexing.html#returning-a-view-versus-a-copy\n",
      "  \"\"\"Entry point for launching an IPython kernel.\n"
     ]
    }
   ],
   "source": [
    "X_test['fiModelDesc'] = enc_md.transform(X_test.fiModelDesc)"
   ]
  },
  {
   "cell_type": "code",
   "execution_count": 63,
   "metadata": {},
   "outputs": [
    {
     "data": {
      "text/html": [
       "<div>\n",
       "<style scoped>\n",
       "    .dataframe tbody tr th:only-of-type {\n",
       "        vertical-align: middle;\n",
       "    }\n",
       "\n",
       "    .dataframe tbody tr th {\n",
       "        vertical-align: top;\n",
       "    }\n",
       "\n",
       "    .dataframe thead th {\n",
       "        text-align: right;\n",
       "    }\n",
       "</style>\n",
       "<table border=\"1\" class=\"dataframe\">\n",
       "  <thead>\n",
       "    <tr style=\"text-align: right;\">\n",
       "      <th></th>\n",
       "      <th>YearMade</th>\n",
       "      <th>datasource</th>\n",
       "      <th>state</th>\n",
       "      <th>age</th>\n",
       "      <th>fiBaseModel</th>\n",
       "      <th>fiProductClassDesc</th>\n",
       "      <th>fiModelDesc</th>\n",
       "    </tr>\n",
       "  </thead>\n",
       "  <tbody>\n",
       "    <tr>\n",
       "      <td>0</td>\n",
       "      <td>2004</td>\n",
       "      <td>121</td>\n",
       "      <td>0</td>\n",
       "      <td>2</td>\n",
       "      <td>297</td>\n",
       "      <td>58</td>\n",
       "      <td>977</td>\n",
       "    </tr>\n",
       "    <tr>\n",
       "      <td>1</td>\n",
       "      <td>1996</td>\n",
       "      <td>121</td>\n",
       "      <td>32</td>\n",
       "      <td>8</td>\n",
       "      <td>530</td>\n",
       "      <td>61</td>\n",
       "      <td>1771</td>\n",
       "    </tr>\n",
       "    <tr>\n",
       "      <td>2</td>\n",
       "      <td>2001</td>\n",
       "      <td>121</td>\n",
       "      <td>31</td>\n",
       "      <td>3</td>\n",
       "      <td>110</td>\n",
       "      <td>38</td>\n",
       "      <td>336</td>\n",
       "    </tr>\n",
       "    <tr>\n",
       "      <td>3</td>\n",
       "      <td>2001</td>\n",
       "      <td>121</td>\n",
       "      <td>43</td>\n",
       "      <td>10</td>\n",
       "      <td>1391</td>\n",
       "      <td>7</td>\n",
       "      <td>3769</td>\n",
       "    </tr>\n",
       "    <tr>\n",
       "      <td>4</td>\n",
       "      <td>2007</td>\n",
       "      <td>121</td>\n",
       "      <td>31</td>\n",
       "      <td>2</td>\n",
       "      <td>1551</td>\n",
       "      <td>39</td>\n",
       "      <td>4323</td>\n",
       "    </tr>\n",
       "    <tr>\n",
       "      <td>...</td>\n",
       "      <td>...</td>\n",
       "      <td>...</td>\n",
       "      <td>...</td>\n",
       "      <td>...</td>\n",
       "      <td>...</td>\n",
       "      <td>...</td>\n",
       "      <td>...</td>\n",
       "    </tr>\n",
       "    <tr>\n",
       "      <td>412693</td>\n",
       "      <td>2005</td>\n",
       "      <td>149</td>\n",
       "      <td>43</td>\n",
       "      <td>7</td>\n",
       "      <td>159</td>\n",
       "      <td>12</td>\n",
       "      <td>494</td>\n",
       "    </tr>\n",
       "    <tr>\n",
       "      <td>412694</td>\n",
       "      <td>2005</td>\n",
       "      <td>149</td>\n",
       "      <td>8</td>\n",
       "      <td>7</td>\n",
       "      <td>159</td>\n",
       "      <td>16</td>\n",
       "      <td>495</td>\n",
       "    </tr>\n",
       "    <tr>\n",
       "      <td>412695</td>\n",
       "      <td>2005</td>\n",
       "      <td>149</td>\n",
       "      <td>8</td>\n",
       "      <td>7</td>\n",
       "      <td>159</td>\n",
       "      <td>12</td>\n",
       "      <td>494</td>\n",
       "    </tr>\n",
       "    <tr>\n",
       "      <td>412696</td>\n",
       "      <td>2006</td>\n",
       "      <td>149</td>\n",
       "      <td>43</td>\n",
       "      <td>6</td>\n",
       "      <td>159</td>\n",
       "      <td>12</td>\n",
       "      <td>494</td>\n",
       "    </tr>\n",
       "    <tr>\n",
       "      <td>412697</td>\n",
       "      <td>2006</td>\n",
       "      <td>149</td>\n",
       "      <td>8</td>\n",
       "      <td>6</td>\n",
       "      <td>159</td>\n",
       "      <td>16</td>\n",
       "      <td>495</td>\n",
       "    </tr>\n",
       "  </tbody>\n",
       "</table>\n",
       "<p>412698 rows × 7 columns</p>\n",
       "</div>"
      ],
      "text/plain": [
       "        YearMade  datasource  state  age  fiBaseModel  fiProductClassDesc  \\\n",
       "0           2004         121      0    2          297                  58   \n",
       "1           1996         121     32    8          530                  61   \n",
       "2           2001         121     31    3          110                  38   \n",
       "3           2001         121     43   10         1391                   7   \n",
       "4           2007         121     31    2         1551                  39   \n",
       "...          ...         ...    ...  ...          ...                 ...   \n",
       "412693      2005         149     43    7          159                  12   \n",
       "412694      2005         149      8    7          159                  16   \n",
       "412695      2005         149      8    7          159                  12   \n",
       "412696      2006         149     43    6          159                  12   \n",
       "412697      2006         149      8    6          159                  16   \n",
       "\n",
       "        fiModelDesc  \n",
       "0               977  \n",
       "1              1771  \n",
       "2               336  \n",
       "3              3769  \n",
       "4              4323  \n",
       "...             ...  \n",
       "412693          494  \n",
       "412694          495  \n",
       "412695          494  \n",
       "412696          494  \n",
       "412697          495  \n",
       "\n",
       "[412698 rows x 7 columns]"
      ]
     },
     "execution_count": 63,
     "metadata": {},
     "output_type": "execute_result"
    }
   ],
   "source": [
    "X_six"
   ]
  },
  {
   "cell_type": "code",
   "execution_count": 64,
   "metadata": {},
   "outputs": [],
   "source": [
    "X_trn, X_val, y_trn, y_val = train_test_split(X_six, y_six, test_size=0.2, random_state=0)"
   ]
  },
  {
   "cell_type": "code",
   "execution_count": 65,
   "metadata": {},
   "outputs": [
    {
     "data": {
      "text/plain": [
       "0.2310677847471198"
      ]
     },
     "execution_count": 65,
     "metadata": {},
     "output_type": "execute_result"
    }
   ],
   "source": [
    "model_score(model, X_trn, y_trn, X_val, y_val)"
   ]
  },
  {
   "cell_type": "code",
   "execution_count": 66,
   "metadata": {},
   "outputs": [
    {
     "data": {
      "text/plain": [
       "0.8899619567546689"
      ]
     },
     "execution_count": 66,
     "metadata": {},
     "output_type": "execute_result"
    }
   ],
   "source": [
    "model.score(X_val, y_val)"
   ]
  },
  {
   "cell_type": "code",
   "execution_count": 67,
   "metadata": {},
   "outputs": [],
   "source": [
    "#for i in range(10,250, 10):\n",
    "#    model = RandomForestRegressor(n_estimators= i)\n",
    "#    print(i, '\\t',  model_score(model, X_trn, y_trn, X_val, y_val))"
   ]
  },
  {
   "cell_type": "code",
   "execution_count": 68,
   "metadata": {},
   "outputs": [
    {
     "data": {
      "text/plain": [
       "0.22373528631496306"
      ]
     },
     "execution_count": 68,
     "metadata": {},
     "output_type": "execute_result"
    }
   ],
   "source": [
    "model = RandomForestRegressor(n_estimators=110, n_jobs= -1)\n",
    "model_score(model, X_trn, y_trn, X_val, y_val)"
   ]
  },
  {
   "cell_type": "code",
   "execution_count": 69,
   "metadata": {},
   "outputs": [
    {
     "data": {
      "text/plain": [
       "0.8968348472557488"
      ]
     },
     "execution_count": 69,
     "metadata": {},
     "output_type": "execute_result"
    }
   ],
   "source": [
    "model.score(X_val, y_val)"
   ]
  },
  {
   "cell_type": "code",
   "execution_count": 70,
   "metadata": {},
   "outputs": [
    {
     "data": {
      "text/html": [
       "<div>\n",
       "<style scoped>\n",
       "    .dataframe tbody tr th:only-of-type {\n",
       "        vertical-align: middle;\n",
       "    }\n",
       "\n",
       "    .dataframe tbody tr th {\n",
       "        vertical-align: top;\n",
       "    }\n",
       "\n",
       "    .dataframe thead th {\n",
       "        text-align: right;\n",
       "    }\n",
       "</style>\n",
       "<table border=\"1\" class=\"dataframe\">\n",
       "  <thead>\n",
       "    <tr style=\"text-align: right;\">\n",
       "      <th></th>\n",
       "      <th>YearMade</th>\n",
       "      <th>datasource</th>\n",
       "      <th>state</th>\n",
       "      <th>age</th>\n",
       "      <th>fiBaseModel</th>\n",
       "      <th>fiProductClassDesc</th>\n",
       "      <th>fiModelDesc</th>\n",
       "    </tr>\n",
       "  </thead>\n",
       "  <tbody>\n",
       "    <tr>\n",
       "      <td>count</td>\n",
       "      <td>412698.000000</td>\n",
       "      <td>412698.000000</td>\n",
       "      <td>412698.000000</td>\n",
       "      <td>412698.000000</td>\n",
       "      <td>412698.000000</td>\n",
       "      <td>412698.000000</td>\n",
       "      <td>412698.000000</td>\n",
       "    </tr>\n",
       "    <tr>\n",
       "      <td>mean</td>\n",
       "      <td>1899.049637</td>\n",
       "      <td>135.169361</td>\n",
       "      <td>22.452953</td>\n",
       "      <td>105.267745</td>\n",
       "      <td>565.297375</td>\n",
       "      <td>31.283975</td>\n",
       "      <td>1720.712279</td>\n",
       "    </tr>\n",
       "    <tr>\n",
       "      <td>std</td>\n",
       "      <td>292.190243</td>\n",
       "      <td>9.646749</td>\n",
       "      <td>15.730291</td>\n",
       "      <td>292.497109</td>\n",
       "      <td>477.700941</td>\n",
       "      <td>22.584872</td>\n",
       "      <td>1300.780342</td>\n",
       "    </tr>\n",
       "    <tr>\n",
       "      <td>min</td>\n",
       "      <td>1000.000000</td>\n",
       "      <td>121.000000</td>\n",
       "      <td>0.000000</td>\n",
       "      <td>-12.000000</td>\n",
       "      <td>0.000000</td>\n",
       "      <td>0.000000</td>\n",
       "      <td>0.000000</td>\n",
       "    </tr>\n",
       "    <tr>\n",
       "      <td>25%</td>\n",
       "      <td>1985.000000</td>\n",
       "      <td>132.000000</td>\n",
       "      <td>8.000000</td>\n",
       "      <td>5.000000</td>\n",
       "      <td>207.000000</td>\n",
       "      <td>10.000000</td>\n",
       "      <td>648.000000</td>\n",
       "    </tr>\n",
       "    <tr>\n",
       "      <td>50%</td>\n",
       "      <td>1995.000000</td>\n",
       "      <td>132.000000</td>\n",
       "      <td>20.000000</td>\n",
       "      <td>9.000000</td>\n",
       "      <td>408.000000</td>\n",
       "      <td>34.000000</td>\n",
       "      <td>1433.000000</td>\n",
       "    </tr>\n",
       "    <tr>\n",
       "      <td>75%</td>\n",
       "      <td>2001.000000</td>\n",
       "      <td>136.000000</td>\n",
       "      <td>40.000000</td>\n",
       "      <td>16.000000</td>\n",
       "      <td>707.000000</td>\n",
       "      <td>51.000000</td>\n",
       "      <td>2348.000000</td>\n",
       "    </tr>\n",
       "    <tr>\n",
       "      <td>max</td>\n",
       "      <td>2014.000000</td>\n",
       "      <td>173.000000</td>\n",
       "      <td>52.000000</td>\n",
       "      <td>1012.000000</td>\n",
       "      <td>1977.000000</td>\n",
       "      <td>73.000000</td>\n",
       "      <td>5131.000000</td>\n",
       "    </tr>\n",
       "  </tbody>\n",
       "</table>\n",
       "</div>"
      ],
      "text/plain": [
       "            YearMade     datasource          state            age  \\\n",
       "count  412698.000000  412698.000000  412698.000000  412698.000000   \n",
       "mean     1899.049637     135.169361      22.452953     105.267745   \n",
       "std       292.190243       9.646749      15.730291     292.497109   \n",
       "min      1000.000000     121.000000       0.000000     -12.000000   \n",
       "25%      1985.000000     132.000000       8.000000       5.000000   \n",
       "50%      1995.000000     132.000000      20.000000       9.000000   \n",
       "75%      2001.000000     136.000000      40.000000      16.000000   \n",
       "max      2014.000000     173.000000      52.000000    1012.000000   \n",
       "\n",
       "         fiBaseModel  fiProductClassDesc    fiModelDesc  \n",
       "count  412698.000000       412698.000000  412698.000000  \n",
       "mean      565.297375           31.283975    1720.712279  \n",
       "std       477.700941           22.584872    1300.780342  \n",
       "min         0.000000            0.000000       0.000000  \n",
       "25%       207.000000           10.000000     648.000000  \n",
       "50%       408.000000           34.000000    1433.000000  \n",
       "75%       707.000000           51.000000    2348.000000  \n",
       "max      1977.000000           73.000000    5131.000000  "
      ]
     },
     "execution_count": 70,
     "metadata": {},
     "output_type": "execute_result"
    }
   ],
   "source": [
    "X_six.describe()"
   ]
  },
  {
   "cell_type": "code",
   "execution_count": 71,
   "metadata": {},
   "outputs": [
    {
     "data": {
      "text/plain": [
       "0.22336413478508468"
      ]
     },
     "execution_count": 71,
     "metadata": {},
     "output_type": "execute_result"
    }
   ],
   "source": [
    "model = RandomForestRegressor(max_depth=30, min_samples_split=20, n_estimators=110, n_jobs= -1)\n",
    "model_score(model, X_trn, y_trn, X_val, y_val)"
   ]
  },
  {
   "cell_type": "code",
   "execution_count": 72,
   "metadata": {},
   "outputs": [
    {
     "data": {
      "text/plain": [
       "0.8971768419906114"
      ]
     },
     "execution_count": 72,
     "metadata": {},
     "output_type": "execute_result"
    }
   ],
   "source": [
    "model.score(X_val, y_val)"
   ]
  },
  {
   "cell_type": "code",
   "execution_count": null,
   "metadata": {},
   "outputs": [],
   "source": []
  },
  {
   "cell_type": "code",
   "execution_count": null,
   "metadata": {},
   "outputs": [],
   "source": []
  },
  {
   "cell_type": "code",
   "execution_count": null,
   "metadata": {},
   "outputs": [],
   "source": []
  },
  {
   "cell_type": "code",
   "execution_count": null,
   "metadata": {},
   "outputs": [],
   "source": []
  },
  {
   "cell_type": "code",
   "execution_count": null,
   "metadata": {},
   "outputs": [],
   "source": []
  },
  {
   "cell_type": "code",
   "execution_count": null,
   "metadata": {},
   "outputs": [],
   "source": []
  },
  {
   "cell_type": "code",
   "execution_count": null,
   "metadata": {},
   "outputs": [],
   "source": []
  },
  {
   "cell_type": "code",
   "execution_count": null,
   "metadata": {},
   "outputs": [],
   "source": []
  },
  {
   "cell_type": "code",
   "execution_count": null,
   "metadata": {},
   "outputs": [],
   "source": []
  },
  {
   "cell_type": "code",
   "execution_count": null,
   "metadata": {},
   "outputs": [],
   "source": []
  },
  {
   "cell_type": "code",
   "execution_count": null,
   "metadata": {},
   "outputs": [],
   "source": []
  },
  {
   "cell_type": "code",
   "execution_count": null,
   "metadata": {},
   "outputs": [],
   "source": []
  },
  {
   "cell_type": "code",
   "execution_count": null,
   "metadata": {},
   "outputs": [],
   "source": []
  },
  {
   "cell_type": "code",
   "execution_count": null,
   "metadata": {},
   "outputs": [],
   "source": []
  },
  {
   "cell_type": "code",
   "execution_count": null,
   "metadata": {},
   "outputs": [],
   "source": []
  },
  {
   "cell_type": "code",
   "execution_count": null,
   "metadata": {},
   "outputs": [],
   "source": []
  },
  {
   "cell_type": "code",
   "execution_count": null,
   "metadata": {},
   "outputs": [],
   "source": []
  },
  {
   "cell_type": "code",
   "execution_count": null,
   "metadata": {},
   "outputs": [],
   "source": []
  },
  {
   "cell_type": "code",
   "execution_count": null,
   "metadata": {},
   "outputs": [],
   "source": []
  },
  {
   "cell_type": "code",
   "execution_count": null,
   "metadata": {},
   "outputs": [],
   "source": []
  },
  {
   "cell_type": "markdown",
   "metadata": {},
   "source": []
  },
  {
   "cell_type": "code",
   "execution_count": null,
   "metadata": {},
   "outputs": [],
   "source": []
  },
  {
   "cell_type": "code",
   "execution_count": null,
   "metadata": {},
   "outputs": [],
   "source": []
  },
  {
   "cell_type": "code",
   "execution_count": 73,
   "metadata": {},
   "outputs": [
    {
     "data": {
      "text/plain": [
       "array([nan, 'No', 'Variable'], dtype=object)"
      ]
     },
     "execution_count": 73,
     "metadata": {},
     "output_type": "execute_result"
    }
   ],
   "source": [
    "train.Engine_Horsepower.unique()"
   ]
  },
  {
   "cell_type": "code",
   "execution_count": 74,
   "metadata": {},
   "outputs": [
    {
     "data": {
      "text/plain": [
       "0           521\n",
       "1           950\n",
       "2           226\n",
       "3         PC120\n",
       "4          S175\n",
       "          ...  \n",
       "412693       30\n",
       "412694       30\n",
       "412695       30\n",
       "412696       30\n",
       "412697       30\n",
       "Name: fiBaseModel, Length: 412698, dtype: object"
      ]
     },
     "execution_count": 74,
     "metadata": {},
     "output_type": "execute_result"
    }
   ],
   "source": [
    "train.fiBaseModel"
   ]
  },
  {
   "cell_type": "code",
   "execution_count": null,
   "metadata": {},
   "outputs": [],
   "source": []
  },
  {
   "cell_type": "code",
   "execution_count": null,
   "metadata": {},
   "outputs": [],
   "source": []
  },
  {
   "cell_type": "code",
   "execution_count": null,
   "metadata": {},
   "outputs": [],
   "source": []
  },
  {
   "cell_type": "code",
   "execution_count": null,
   "metadata": {},
   "outputs": [],
   "source": []
  },
  {
   "cell_type": "code",
   "execution_count": null,
   "metadata": {},
   "outputs": [],
   "source": []
  },
  {
   "cell_type": "code",
   "execution_count": null,
   "metadata": {},
   "outputs": [],
   "source": []
  },
  {
   "cell_type": "code",
   "execution_count": 75,
   "metadata": {},
   "outputs": [
    {
     "data": {
      "text/plain": [
       "array(['Alabama', 'North Carolina', 'New York', 'Texas', 'Arizona',\n",
       "       'Florida', 'Illinois', 'Oregon', 'Ohio', 'Arkansas', 'Wisconsin',\n",
       "       'Kansas', 'Nevada', 'Iowa', 'Maine', 'Massachusetts', 'California',\n",
       "       'Louisiana', 'Minnesota', 'New Hampshire', 'Idaho', 'Michigan',\n",
       "       'Mississippi', 'Georgia', 'Missouri', 'South Carolina', 'Utah',\n",
       "       'Tennessee', 'Washington', 'Virginia', 'South Dakota',\n",
       "       'West Virginia', 'Oklahoma', 'Pennsylvania', 'Wyoming',\n",
       "       'North Dakota', 'New Jersey', 'Kentucky', 'Montana', 'Alaska',\n",
       "       'Nebraska', 'Maryland', 'Hawaii', 'Colorado', 'New Mexico',\n",
       "       'Indiana', 'Connecticut', 'Delaware', 'Rhode Island', 'Vermont',\n",
       "       'Washington DC', 'Puerto Rico', 'Unspecified'], dtype=object)"
      ]
     },
     "execution_count": 75,
     "metadata": {},
     "output_type": "execute_result"
    }
   ],
   "source": [
    "train.state.unique()"
   ]
  },
  {
   "cell_type": "code",
   "execution_count": 76,
   "metadata": {},
   "outputs": [
    {
     "data": {
      "text/plain": [
       "array(['Wyoming', 'Virginia', 'New Jersey', 'Florida', 'South Carolina',\n",
       "       'Illinois', 'Alabama', 'Texas', 'Louisiana', 'Arizona', 'Kentucky',\n",
       "       'Washington', 'Oklahoma', 'Mississippi', 'Indiana',\n",
       "       'North Carolina', 'Arkansas', 'Ohio', 'California', 'Colorado',\n",
       "       'Missouri', 'Tennessee', 'Georgia', 'West Virginia', 'Maine',\n",
       "       'Massachusetts', 'New Mexico', 'Pennsylvania', 'New York', 'Iowa',\n",
       "       'Kansas', 'Nevada', 'Hawaii', 'Oregon', 'Minnesota', 'Maryland',\n",
       "       'Utah', 'Idaho', 'Michigan', 'South Dakota', 'Wisconsin', 'Alaska',\n",
       "       'Washington DC', 'Nebraska', 'Montana', 'North Dakota',\n",
       "       'New Hampshire', 'Connecticut', 'Vermont', 'Puerto Rico',\n",
       "       'Rhode Island'], dtype=object)"
      ]
     },
     "execution_count": 76,
     "metadata": {},
     "output_type": "execute_result"
    }
   ],
   "source": [
    "test.state.unique()"
   ]
  },
  {
   "cell_type": "code",
   "execution_count": 77,
   "metadata": {},
   "outputs": [],
   "source": [
    "pred = model.predict(X_test)"
   ]
  },
  {
   "cell_type": "code",
   "execution_count": 78,
   "metadata": {},
   "outputs": [],
   "source": [
    "output = pd.DataFrame({'Id': test.SalesID,\n",
    "                       'SalePrice': np.exp(pred)})\n",
    "output.to_csv('submission.csv', index=False)"
   ]
  },
  {
   "cell_type": "code",
   "execution_count": null,
   "metadata": {},
   "outputs": [],
   "source": []
  }
 ],
 "metadata": {
  "kernelspec": {
   "display_name": "Python 3",
   "language": "python",
   "name": "python3"
  },
  "language_info": {
   "codemirror_mode": {
    "name": "ipython",
    "version": 3
   },
   "file_extension": ".py",
   "mimetype": "text/x-python",
   "name": "python",
   "nbconvert_exporter": "python",
   "pygments_lexer": "ipython3",
   "version": "3.6.6"
  }
 },
 "nbformat": 4,
 "nbformat_minor": 1
}
