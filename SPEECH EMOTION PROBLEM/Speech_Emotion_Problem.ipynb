{
  "nbformat": 4,
  "nbformat_minor": 0,
  "metadata": {
    "colab": {
      "name": "Speech_Emotion_Problem.ipynb",
      "provenance": [],
      "collapsed_sections": []
    },
    "kernelspec": {
      "name": "python3",
      "display_name": "Python 3"
    }
  },
  "cells": [
    {
      "cell_type": "code",
      "metadata": {
        "id": "TILkSsRl-ett",
        "colab_type": "code",
        "colab": {
          "base_uri": "https://localhost:8080/",
          "height": 82
        },
        "outputId": "37f10d40-f0a2-4c81-ec25-b2ac26eb0297"
      },
      "source": [
        "import keras\n",
        "from keras.preprocessing.image import ImageDataGenerator, load_img, img_to_array\n",
        "from keras import Sequential\n",
        "from keras.layers import Conv2D, MaxPooling2D\n",
        "from keras.layers import Dense, Activation, Flatten, Dropout\n",
        "from keras import backend \n",
        "from keras import optimizers \n",
        "\n",
        "#loader = load_img('./train/happy/MEL_dia99_utt13_positive_HAPjpg.png')\n",
        "#print(img_to_array(loader).shape)"
      ],
      "execution_count": 1,
      "outputs": [
        {
          "output_type": "stream",
          "text": [
            "Using TensorFlow backend.\n"
          ],
          "name": "stderr"
        },
        {
          "output_type": "display_data",
          "data": {
            "text/html": [
              "<p style=\"color: red;\">\n",
              "The default version of TensorFlow in Colab will soon switch to TensorFlow 2.x.<br>\n",
              "We recommend you <a href=\"https://www.tensorflow.org/guide/migrate\" target=\"_blank\">upgrade</a> now \n",
              "or ensure your notebook will continue to use TensorFlow 1.x via the <code>%tensorflow_version 1.x</code> magic:\n",
              "<a href=\"https://colab.research.google.com/notebooks/tensorflow_version.ipynb\" target=\"_blank\">more info</a>.</p>\n"
            ],
            "text/plain": [
              "<IPython.core.display.HTML object>"
            ]
          },
          "metadata": {
            "tags": []
          }
        }
      ]
    },
    {
      "cell_type": "code",
      "metadata": {
        "id": "j2nPjS_p-38N",
        "colab_type": "code",
        "outputId": "00169fb9-a932-4025-d092-faeb3c7e9229",
        "colab": {
          "base_uri": "https://localhost:8080/",
          "height": 126
        }
      },
      "source": [
        "from google.colab import drive\n",
        "drive.mount('/content/drive')"
      ],
      "execution_count": 2,
      "outputs": [
        {
          "output_type": "stream",
          "text": [
            "Go to this URL in a browser: https://accounts.google.com/o/oauth2/auth?client_id=947318989803-6bn6qk8qdgf4n4g3pfee6491hc0brc4i.apps.googleusercontent.com&redirect_uri=urn%3Aietf%3Awg%3Aoauth%3A2.0%3Aoob&scope=email%20https%3A%2F%2Fwww.googleapis.com%2Fauth%2Fdocs.test%20https%3A%2F%2Fwww.googleapis.com%2Fauth%2Fdrive%20https%3A%2F%2Fwww.googleapis.com%2Fauth%2Fdrive.photos.readonly%20https%3A%2F%2Fwww.googleapis.com%2Fauth%2Fpeopleapi.readonly&response_type=code\n",
            "\n",
            "Enter your authorization code:\n",
            "··········\n",
            "Mounted at /content/drive\n"
          ],
          "name": "stdout"
        }
      ]
    },
    {
      "cell_type": "code",
      "metadata": {
        "id": "jNEF4nNq_JH_",
        "colab_type": "code",
        "outputId": "95b33979-44f2-433f-d55d-1b10a460a749",
        "colab": {
          "base_uri": "https://localhost:8080/",
          "height": 35
        }
      },
      "source": [
        "import os\n",
        "os.listdir('./drive/My Drive/meldnew/train')\n"
      ],
      "execution_count": 3,
      "outputs": [
        {
          "output_type": "execute_result",
          "data": {
            "text/plain": [
              "['happy', 'neutral', 'fear', 'sad', 'disgust']"
            ]
          },
          "metadata": {
            "tags": []
          },
          "execution_count": 3
        }
      ]
    },
    {
      "cell_type": "code",
      "metadata": {
        "id": "hjYHdsJT_Jao",
        "colab_type": "code",
        "colab": {}
      },
      "source": [
        "path_train = './drive/My Drive/meldnew/train'"
      ],
      "execution_count": 0,
      "outputs": []
    },
    {
      "cell_type": "code",
      "metadata": {
        "id": "bGjEgcW__6ee",
        "colab_type": "code",
        "colab": {}
      },
      "source": [
        "path_val = './drive/My Drive/meldnew/validation'"
      ],
      "execution_count": 0,
      "outputs": []
    },
    {
      "cell_type": "code",
      "metadata": {
        "id": "XW-YYh0Y_6bB",
        "colab_type": "code",
        "colab": {}
      },
      "source": [
        ""
      ],
      "execution_count": 0,
      "outputs": []
    },
    {
      "cell_type": "code",
      "metadata": {
        "id": "oZrxiGIf-yMm",
        "colab_type": "code",
        "outputId": "83eda9c4-2e31-460f-af12-bdcf55c049fe",
        "colab": {
          "base_uri": "https://localhost:8080/",
          "height": 266
        }
      },
      "source": [
        "img_wid = 300\n",
        "img_height= 300\n",
        "\n",
        "\n",
        "if backend.image_data_format() == 'channels_first':\n",
        "    input_shape = (3, img_wid, img_height)\n",
        "else:\n",
        "    input_shape=(img_wid, img_height, 3)\n",
        "\n",
        "datagen = ImageDataGenerator(rescale= 1/255, width_shift_range=1.0, zoom_range=0.2)\n",
        "train = datagen.flow_from_directory(path_train, class_mode='categorical', batch_size=30, target_size = (img_wid, img_height) )\n",
        "print(train)\n",
        "\n",
        "datagen_val = ImageDataGenerator(rescale= 1/255)\n",
        "\n",
        "\n",
        "val =datagen_val.flow_from_directory(path_val, class_mode='categorical', batch_size=30, target_size = (img_wid, img_height) )\n",
        "\n",
        "\n",
        "model_cnn = Sequential()\n",
        "model_cnn.add(Conv2D(filters=32, kernel_size=(2,2),padding='same',strides=(1,1), input_shape=input_shape))\n",
        "model_cnn.add(Activation('relu'))\n",
        "model_cnn.add(MaxPooling2D(pool_size= (2,2), strides=2))\n",
        "\n",
        "\n",
        "model_cnn.add(Conv2D(filters= 64, kernel_size=(2,2), padding='valid', strides=(1,1)))\n",
        "model_cnn.add(Activation('relu'))\n",
        "model_cnn.add(MaxPooling2D(pool_size=(2,2), strides=2))\n",
        "\n",
        "model_cnn.add(Flatten())\n",
        "model_cnn.add(Dense(64))\n",
        "model_cnn.add(Activation('relu'))\n",
        "\n",
        "model_cnn.add(Dropout(0.25))\n",
        "\n",
        "model_cnn.add(Dense(5))\n",
        "model_cnn.add(Activation('sigmoid'))\n",
        "\n",
        "#rms = optimizers.RMSprop(learning_rate=0.1)\n",
        "\n",
        "model_cnn.compile(loss='categorical_crossentropy', optimizer='Adam', metrics=['accuracy'])\n",
        "\n",
        "model_cnn.fit_generator(train, epochs=5, steps_per_epoch= 7800//78 )"
      ],
      "execution_count": 8,
      "outputs": [
        {
          "output_type": "stream",
          "text": [
            "Found 7372 images belonging to 5 classes.\n",
            "<keras_preprocessing.image.directory_iterator.DirectoryIterator object at 0x7fdcca6f6cf8>\n",
            "Found 830 images belonging to 5 classes.\n",
            "Epoch 1/5\n",
            "100/100 [==============================] - 312s 3s/step - loss: 1.5682 - acc: 0.5200\n",
            "Epoch 2/5\n",
            "100/100 [==============================] - 304s 3s/step - loss: 1.1385 - acc: 0.6298\n",
            "Epoch 3/5\n",
            "100/100 [==============================] - 304s 3s/step - loss: 1.1056 - acc: 0.6333\n",
            "Epoch 4/5\n",
            "100/100 [==============================] - 303s 3s/step - loss: 1.1379 - acc: 0.6093\n",
            "Epoch 5/5\n",
            "100/100 [==============================] - 301s 3s/step - loss: 1.0826 - acc: 0.6295\n"
          ],
          "name": "stdout"
        },
        {
          "output_type": "execute_result",
          "data": {
            "text/plain": [
              "<keras.callbacks.History at 0x7fdccb932860>"
            ]
          },
          "metadata": {
            "tags": []
          },
          "execution_count": 8
        }
      ]
    },
    {
      "cell_type": "code",
      "metadata": {
        "id": "XBzkmBEKgdSO",
        "colab_type": "code",
        "colab": {
          "base_uri": "https://localhost:8080/",
          "height": 35
        },
        "outputId": "444a95f8-a248-4539-ffa9-fee0f768ec6f"
      },
      "source": [
        "model_cnn.evaluate_generator(val)"
      ],
      "execution_count": 10,
      "outputs": [
        {
          "output_type": "execute_result",
          "data": {
            "text/plain": [
              "[1.0738943700330803, 0.6228915750980377]"
            ]
          },
          "metadata": {
            "tags": []
          },
          "execution_count": 10
        }
      ]
    },
    {
      "cell_type": "code",
      "metadata": {
        "id": "-itr_8VoMnlJ",
        "colab_type": "code",
        "colab": {}
      },
      "source": [
        "# Saving the model to google drive\n",
        "!pip install -U -q PyDrive\n",
        "from pydrive.auth import GoogleAuth\n",
        "from pydrive.drive import GoogleDrive \n",
        "from google.colab import auth \n",
        "from oauth2client.client import GoogleCredentials"
      ],
      "execution_count": 0,
      "outputs": []
    },
    {
      "cell_type": "code",
      "metadata": {
        "id": "z71E2w45OLIo",
        "colab_type": "code",
        "colab": {}
      },
      "source": [
        "auth.authenticate_user()\n",
        "gauth = GoogleAuth()\n",
        "gauth.credentials = GoogleCredentials.get_application_default()\n",
        "drive = GoogleDrive(gauth)"
      ],
      "execution_count": 0,
      "outputs": []
    },
    {
      "cell_type": "code",
      "metadata": {
        "id": "dDj-ozjoOPRq",
        "colab_type": "code",
        "colab": {}
      },
      "source": [
        "model_cnn.save('model.json')\n",
        "model_file = drive.CreateFile({'title' : 'model.json'})\n",
        "model_file.SetContentFile('model.json')\n",
        "model_file.Upload()"
      ],
      "execution_count": 0,
      "outputs": []
    },
    {
      "cell_type": "code",
      "metadata": {
        "id": "WygP1OstOmQF",
        "colab_type": "code",
        "colab": {
          "base_uri": "https://localhost:8080/",
          "height": 35
        },
        "outputId": "17155a9d-ca3e-457c-a20d-87eda5a031fb"
      },
      "source": [
        "drive.CreateFile({'id': model_file.get('id')})"
      ],
      "execution_count": 15,
      "outputs": [
        {
          "output_type": "execute_result",
          "data": {
            "text/plain": [
              "GoogleDriveFile({'id': '1GvSa6Prxn8ysr4QN1eF85XL1WseFDgTW'})"
            ]
          },
          "metadata": {
            "tags": []
          },
          "execution_count": 15
        }
      ]
    },
    {
      "cell_type": "code",
      "metadata": {
        "id": "d6qJLiW_Oskz",
        "colab_type": "code",
        "colab": {}
      },
      "source": [
        "#saving Weights\n",
        "model_cnn.save_weights('weights.h5')\n",
        "weights_file = drive.CreateFile({'title' : 'weights.h5'})\n",
        "weights_file.SetContentFile('weights.h5')\n",
        "weights_file.Upload()\n"
      ],
      "execution_count": 0,
      "outputs": []
    },
    {
      "cell_type": "code",
      "metadata": {
        "id": "yrH4aox8PTMM",
        "colab_type": "code",
        "colab": {
          "base_uri": "https://localhost:8080/",
          "height": 35
        },
        "outputId": "2ae9e541-a573-458f-fc2d-8910cb6a963b"
      },
      "source": [
        "drive.CreateFile({'id': model_file.get('id')})"
      ],
      "execution_count": 17,
      "outputs": [
        {
          "output_type": "execute_result",
          "data": {
            "text/plain": [
              "GoogleDriveFile({'id': '1GvSa6Prxn8ysr4QN1eF85XL1WseFDgTW'})"
            ]
          },
          "metadata": {
            "tags": []
          },
          "execution_count": 17
        }
      ]
    },
    {
      "cell_type": "code",
      "metadata": {
        "id": "zH7pvdx0PVDV",
        "colab_type": "code",
        "colab": {}
      },
      "source": [
        ""
      ],
      "execution_count": 0,
      "outputs": []
    }
  ]
}